{
 "cells": [
  {
   "cell_type": "code",
   "execution_count": 2,
   "metadata": {},
   "outputs": [],
   "source": [
    "import numpy as np\n",
    "import matplotlib.pyplot as plt\n",
    "from scipy  import special"
   ]
  },
  {
   "cell_type": "code",
   "execution_count": 3,
   "metadata": {},
   "outputs": [
    {
     "name": "stdout",
     "output_type": "stream",
     "text": [
      "jv(x1, x2, /, out=None, *, where=True, casting='same_kind', order='K', dtype=None, subok=True[, signature, extobj])\n",
      "\n",
      "jv(v, z)\n",
      "\n",
      "Bessel function of the first kind of real order and complex argument.\n",
      "\n",
      "Parameters\n",
      "----------\n",
      "v : array_like\n",
      "    Order (float).\n",
      "z : array_like\n",
      "    Argument (float or complex).\n",
      "\n",
      "Returns\n",
      "-------\n",
      "J : ndarray\n",
      "    Value of the Bessel function, :math:`J_v(z)`.\n",
      "\n",
      "Notes\n",
      "-----\n",
      "For positive `v` values, the computation is carried out using the AMOS\n",
      "[1]_ `zbesj` routine, which exploits the connection to the modified\n",
      "Bessel function :math:`I_v`,\n",
      "\n",
      ".. math::\n",
      "    J_v(z) = \\exp(v\\pi\\imath/2) I_v(-\\imath z)\\qquad (\\Im z > 0)\n",
      "\n",
      "    J_v(z) = \\exp(-v\\pi\\imath/2) I_v(\\imath z)\\qquad (\\Im z < 0)\n",
      "\n",
      "For negative `v` values the formula,\n",
      "\n",
      ".. math:: J_{-v}(z) = J_v(z) \\cos(\\pi v) - Y_v(z) \\sin(\\pi v)\n",
      "\n",
      "is used, where :math:`Y_v(z)` is the Bessel function of the second\n",
      "kind, computed using the AMOS routine `zbesy`.  Note that the second\n",
      "term is exactly zero for integer `v`; to improve accuracy the second\n",
      "term is explicitly omitted for `v` values such that `v = floor(v)`.\n",
      "\n",
      "Not to be confused with the spherical Bessel functions (see `spherical_jn`).\n",
      "\n",
      "See also\n",
      "--------\n",
      "jve : :math:`J_v` with leading exponential behavior stripped off.\n",
      "spherical_jn : spherical Bessel functions.\n",
      "\n",
      "References\n",
      "----------\n",
      ".. [1] Donald E. Amos, \"AMOS, A Portable Package for Bessel Functions\n",
      "       of a Complex Argument and Nonnegative Order\",\n",
      "       http://netlib.org/amos/\n"
     ]
    }
   ],
   "source": [
    "np.info(special.jv)"
   ]
  },
  {
   "cell_type": "code",
   "execution_count": null,
   "metadata": {},
   "outputs": [],
   "source": []
  }
 ],
 "metadata": {
  "kernelspec": {
   "display_name": "Python 3",
   "language": "python",
   "name": "python3"
  },
  "language_info": {
   "codemirror_mode": {
    "name": "ipython",
    "version": 3
   },
   "file_extension": ".py",
   "mimetype": "text/x-python",
   "name": "python",
   "nbconvert_exporter": "python",
   "pygments_lexer": "ipython3",
   "version": "3.7.4"
  }
 },
 "nbformat": 4,
 "nbformat_minor": 2
}
