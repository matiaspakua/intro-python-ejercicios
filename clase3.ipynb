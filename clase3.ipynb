{
 "cells": [
  {
   "cell_type": "code",
   "execution_count": 1,
   "metadata": {},
   "outputs": [
    {
     "name": "stdout",
     "output_type": "stream",
     "text": [
      "0, 1, 2, 3, 4, 5, 6, 7, 8, 9, "
     ]
    }
   ],
   "source": [
    "for elemento in range(10):\n",
    "    print(elemento, end=', ')"
   ]
  },
  {
   "cell_type": "code",
   "execution_count": 4,
   "metadata": {},
   "outputs": [
    {
     "name": "stdout",
     "output_type": "stream",
     "text": [
      "1\n",
      "11\n",
      "13\n",
      "17\n",
      "19\n",
      "23\n",
      "29\n",
      "31\n",
      "37\n",
      "41\n",
      "43\n",
      "47\n",
      "53\n",
      "59\n",
      "61\n",
      "67\n",
      "71\n",
      "73\n",
      "79\n",
      "83\n",
      "89\n",
      "97\n"
     ]
    }
   ],
   "source": [
    "for elemento in range(100):\n",
    "    if elemento % 2 == 0:\n",
    "        continue\n",
    "    elif elemento % 3 == 0:\n",
    "        continue\n",
    "    elif elemento % 5 == 0:\n",
    "        continue\n",
    "    elif elemento % 7 == 0:\n",
    "        continue\n",
    "    else:\n",
    "        print(elemento)"
   ]
  },
  {
   "cell_type": "code",
   "execution_count": 38,
   "metadata": {},
   "outputs": [
    {
     "name": "stdout",
     "output_type": "stream",
     "text": [
      "Maximo valor de k = 1, s=0\n"
     ]
    }
   ],
   "source": [
    "error, s, sa = 0, 0, 0\n",
    "error_relativo = 10**-5\n",
    "k=1\n",
    "while error > error_relativo:\n",
    "    sa=s\n",
    "    s+=(((-1)**k)*(k+1)) / ((2*(k**3)) + k**2)    \n",
    "    error = abs(s-sa)\n",
    "    print('s= {}, sa={}, error={}'.format(s,sa,error))\n",
    "    #s+=s\n",
    "    k+=1\n",
    "print('Maximo valor de k = {}, s={}'.format(k, s))"
   ]
  },
  {
   "cell_type": "code",
   "execution_count": 71,
   "metadata": {},
   "outputs": [
    {
     "name": "stdout",
     "output_type": "stream",
     "text": [
      "{1, 3, 5, 9, 15, 17, 19, 23, 25, 27, 29, 31, 37, 41, 43, 45, 47, 51, 53, 57, 59, 61, 67, 69, 71, 73, 75, 79, 81, 83, 85, 87, 89, 93, 95, 97}\n",
      "********************************************************************************\n",
      "{1, 2, 4, 7, 8, 11, 13, 14, 16, 19, 22, 23, 26, 28, 29, 31, 32, 37, 38, 41, 43, 44, 46, 47, 49, 52, 53, 56, 58, 59, 61, 62, 64, 67, 71, 73, 74, 76, 77, 79, 82, 83, 86, 88, 89, 91, 92, 94, 97, 98}\n",
      "********************************************************************************\n",
      "[1, 2, 3, 4, 5, 7, 8, 9, 11, 13, 14, 15, 16, 17, 19, 22, 23, 25, 26, 27, 28, 29, 31, 32, 37, 38, 41, 43, 44, 45, 46, 47, 49, 51, 52, 53, 56, 57, 58, 59, 61, 62, 64, 67, 69, 71, 73, 74, 75, 76, 77, 79, 81, 82, 83, 85, 86, 87, 88, 89, 91, 92, 93, 94, 95, 97, 98]\n",
      "67\n"
     ]
    }
   ],
   "source": [
    "def multiplos(validos, rango):\n",
    "    lista = []\n",
    "    for elemento in range(rango):\n",
    "        multiplo = False\n",
    "        for index in validos:\n",
    "            if elemento % index == 0:\n",
    "                multiplo = True            \n",
    "        if multiplo == False:\n",
    "            lista.append(elemento)\n",
    "    return lista\n",
    "\n",
    "l1 = multiplos([2,7,11,13], 100)\n",
    "l2 = multiplos([3,5,17], 100)\n",
    "\n",
    "conjunto1 = set(l1)\n",
    "conjunto2 = set(l2)\n",
    "\n",
    "print(conjunto1)\n",
    "print('*'*80)\n",
    "print(conjunto2)\n",
    "l3 = list(conjunto1.union(conjunto1, conjunto2))\n",
    "print('*'*80)\n",
    "l3.sort()\n",
    "print(l3)\n",
    "print(len(l3))"
   ]
  },
  {
   "cell_type": "code",
   "execution_count": 90,
   "metadata": {},
   "outputs": [
    {
     "ename": "FileNotFoundError",
     "evalue": "[Errno 2] No such file or directory: '../data/names.txt'",
     "output_type": "error",
     "traceback": [
      "\u001b[1;31m---------------------------------------------------------------------------\u001b[0m",
      "\u001b[1;31mFileNotFoundError\u001b[0m                         Traceback (most recent call last)",
      "\u001b[1;32m<ipython-input-90-edc5992c25c3>\u001b[0m in \u001b[0;36m<module>\u001b[1;34m\u001b[0m\n\u001b[0;32m      8\u001b[0m \u001b[0mmaxlen\u001b[0m \u001b[1;33m=\u001b[0m \u001b[1;36m3\u001b[0m                      \u001b[1;31m# longitud máxima\u001b[0m\u001b[1;33m\u001b[0m\u001b[1;33m\u001b[0m\u001b[0m\n\u001b[0;32m      9\u001b[0m \u001b[1;33m\u001b[0m\u001b[0m\n\u001b[1;32m---> 10\u001b[1;33m \u001b[0mfi\u001b[0m \u001b[1;33m=\u001b[0m \u001b[0mopen\u001b[0m\u001b[1;33m(\u001b[0m\u001b[0mfname\u001b[0m\u001b[1;33m,\u001b[0m \u001b[1;34m'r'\u001b[0m\u001b[1;33m)\u001b[0m\u001b[1;33m\u001b[0m\u001b[1;33m\u001b[0m\u001b[0m\n\u001b[0m\u001b[0;32m     11\u001b[0m \u001b[1;33m\u001b[0m\u001b[0m\n\u001b[0;32m     12\u001b[0m \u001b[1;32mfor\u001b[0m \u001b[0mline\u001b[0m \u001b[1;32min\u001b[0m \u001b[0mfi\u001b[0m\u001b[1;33m:\u001b[0m\u001b[1;33m\u001b[0m\u001b[1;33m\u001b[0m\u001b[0m\n",
      "\u001b[1;31mFileNotFoundError\u001b[0m: [Errno 2] No such file or directory: '../data/names.txt'"
     ]
    }
   ],
   "source": [
    "# %load intro-python-IB\\scripts\\03_ejemplo_2.py\n",
    "\"\"\"Programa para contar e imprimir las palabras capicúa de una longitud dada\"\"\"\n",
    "\n",
    "fname = '../data/names.txt'\n",
    "\n",
    "n = 0                           # contador\n",
    "minlen = 3                      # longitud mínima\n",
    "maxlen = 3                      # longitud máxima\n",
    "\n",
    "fi = open(fname, 'r')\n",
    "\n",
    "for line in fi:\n",
    "  p = line.strip()\n",
    "  if minlen <= len(p) <= maxlen and p[::-1] == p:\n",
    "    n += 1\n",
    "    print('{}'.format(p), end=', ')\n",
    "\n",
    "print('\\n')\n",
    "\n",
    "if minlen == maxlen:\n",
    "  mensaje = ('Encontramos un total de {} palabras capicúa que tienen {} letras'.\n",
    "             format(n, minlen))\n",
    "else:\n",
    "  mensaje = 'Encontramos un total de {} palabras capicúa que tienen\\\n",
    " entre {} y {} letras'.format(n, minlen, maxlen)\n",
    "\n",
    "print(mensaje)\n"
   ]
  },
  {
   "cell_type": "code",
   "execution_count": 122,
   "metadata": {},
   "outputs": [],
   "source": [
    "fname = 'intro-python-IB/data/names.txt'\n",
    "fnew_file = 'pares.txt'\n",
    "linea = []\n",
    "with open(fname) as fo:\n",
    "        for s in fo:\n",
    "            linea.append(s.strip().lower())\n",
    "            \n",
    "with open(fnew_file, 'w') as fw:\n",
    "    for index in range(len(linea)):\n",
    "        if index % 2 == 0:\n",
    "            continue\n",
    "        else:\n",
    "            temp = linea[index]\n",
    "            fw.write(temp + ', ' + temp[::-1] + ' \\n')\n",
    "            "
   ]
  },
  {
   "cell_type": "code",
   "execution_count": 126,
   "metadata": {},
   "outputs": [
    {
     "ename": "NameError",
     "evalue": "name 'EOF' is not defined",
     "output_type": "error",
     "traceback": [
      "\u001b[1;31m---------------------------------------------------------------------------\u001b[0m",
      "\u001b[1;31mNameError\u001b[0m                                 Traceback (most recent call last)",
      "\u001b[1;32m<ipython-input-126-a6e226f86126>\u001b[0m in \u001b[0;36m<module>\u001b[1;34m\u001b[0m\n\u001b[0;32m      1\u001b[0m \u001b[1;32mwith\u001b[0m \u001b[0mopen\u001b[0m\u001b[1;33m(\u001b[0m\u001b[0mfname\u001b[0m\u001b[1;33m)\u001b[0m \u001b[1;32mas\u001b[0m \u001b[0mfo\u001b[0m\u001b[1;33m:\u001b[0m\u001b[1;33m\u001b[0m\u001b[1;33m\u001b[0m\u001b[0m\n\u001b[1;32m----> 2\u001b[1;33m     \u001b[0mfo\u001b[0m\u001b[1;33m.\u001b[0m\u001b[0mseek\u001b[0m\u001b[1;33m(\u001b[0m\u001b[0mEOF\u001b[0m\u001b[1;33m)\u001b[0m\u001b[1;33m\u001b[0m\u001b[1;33m\u001b[0m\u001b[0m\n\u001b[0m",
      "\u001b[1;31mNameError\u001b[0m: name 'EOF' is not defined"
     ]
    }
   ],
   "source": [
    "with open(fname) as fo:\n",
    "    fo.seek(EOF)"
   ]
  }
 ],
 "metadata": {
  "kernelspec": {
   "display_name": "Python 3",
   "language": "python",
   "name": "python3"
  },
  "language_info": {
   "codemirror_mode": {
    "name": "ipython",
    "version": 3
   },
   "file_extension": ".py",
   "mimetype": "text/x-python",
   "name": "python",
   "nbconvert_exporter": "python",
   "pygments_lexer": "ipython3",
   "version": "3.7.4"
  }
 },
 "nbformat": 4,
 "nbformat_minor": 2
}
