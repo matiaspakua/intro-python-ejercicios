{
 "cells": [
  {
   "cell_type": "code",
   "execution_count": 15,
   "metadata": {},
   "outputs": [
    {
     "name": "stderr",
     "output_type": "stream",
     "text": [
      "usage: ipykernel_launcher.py [-h] [-v VEL] [-al ALT] [-g GRAV] [-o NOMBRE]\n",
      "                             [-n N] [--ti TI] [--tf TF]\n",
      "ipykernel_launcher.py: error: unrecognized arguments: -f C:\\Users\\matias\\AppData\\Roaming\\jupyter\\runtime\\kernel-95e67990-d0ad-4fe3-b3b1-136eebbd4b03.json\n"
     ]
    },
    {
     "ename": "SystemExit",
     "evalue": "2",
     "output_type": "error",
     "traceback": [
      "An exception has occurred, use %tb to see the full traceback.\n",
      "\u001b[1;31mSystemExit\u001b[0m\u001b[1;31m:\u001b[0m 2\n"
     ]
    },
    {
     "name": "stderr",
     "output_type": "stream",
     "text": [
      "C:\\Users\\matias\\Anaconda3\\lib\\site-packages\\IPython\\core\\interactiveshell.py:3334: UserWarning: To exit: use 'exit', 'quit', or Ctrl-D.\n",
      "  warn(\"To exit: use 'exit', 'quit', or Ctrl-D.\", stacklevel=1)\n"
     ]
    }
   ],
   "source": [
    "import argparse\n",
    "import numpy as np\n",
    "import sys\n",
    "import matplotlib.pyplot as plt\n",
    "\n",
    "parser = argparse.ArgumentParser(description='Programa para calcular caida libre.')\n",
    "\n",
    "parser.add_argument('-v', '--velocidad', action='store', dest='vel', default=0, type=float)\n",
    "parser.add_argument('-al', '--altura', action='store', dest='alt', default=1000, type=int)\n",
    "parser.add_argument('-g', '--gravedad', action='store', dest='grav', default=9.8, type=float)\n",
    "parser.add_argument('-o', '--nombre', action='store', dest='nombre', type=str)\n",
    "parser.add_argument('-n', '--Ndatos', action='store', dest='N', default=100, type=int)\n",
    "parser.add_argument('--ti', '--instante_inicial', action='store', dest='ti', default=0, type=int)\n",
    "parser.add_argument('--tf', '--tiempo_final', action='store', dest='tf', type=int)\n",
    "\n",
    "args = parser.parse_args()\n",
    "\n",
    "\n",
    "def calcular_posicion(tn, altura_inicial, velocidad_inicial, grav):\n",
    "    \"\"\"\n",
    "    y = h_0 + v_0.t – (1/2).g.t² (posición)\n",
    "    \"\"\"\n",
    "    return altura_inicial + velocidad_inicial * tn - (1//2) * grav * (tn**2) \n",
    "\n",
    "def calcular_velocidad(tn, velocidad_inicial, grav):\n",
    "    \"\"\"\n",
    "    v = v_0 – g.t (velocidad)\n",
    "    \"\"\"\n",
    "    return velocidad_inicial - grav*tn\n",
    "\n",
    "def calcular_tiempo_h0(altura_inicial, velocidad_inicial, grav):\n",
    "    ti=0\n",
    "    coefs=[(-0.5*grav), velocidad_inicial, altura_inicial]\n",
    "    r=np.roots(coefs)\n",
    "    if r[0]>r[1]:\n",
    "        ti=r[0]\n",
    "    else:\n",
    "        ti=r[1]\n",
    "    return ti\n",
    "\n",
    "def verificar_valores():\n",
    "    \"\"\"\n",
    "    --ti: No puede ser mayor que el tiempo de llegada a la posición ℎ=0\n",
    "    --tf: Valor por defecto será el correspondiente al tiempo de llegada a la posición ℎ=0.\n",
    "    \"\"\"\n",
    "    if args.tf is None:\n",
    "        args.tf=calcular_tiempo_h0(args.alt, args.vel, args.grav)\n",
    "    if args.ti < args.tf:\n",
    "        pass\n",
    "    else:\n",
    "        print('Error el Ti es mayor al Tf')\n",
    "        args.ti=args.tf\n",
    "\n",
    "#if args.nombre is None:\n",
    "#    np.savetxt(sys.stdout, generar_datos(), fmt='%.2e', header=\"# Tiempo    Altura   Velocidad\", comments=\"% \")\n",
    "#else:\n",
    "#    np.savetxt(args.nombre + \".txt\", generar_datos(), fmt='%.2e', header=\"# Tiempo    Altura   Velocidad\", comments=\"% \")\n",
    "\n",
    "\n",
    "\n",
    "def generar_datos():\n",
    "    rango_tiempos = np.linspace(args.ti, args.tf, args.N)\n",
    "    pos = calcular_posicion(rango_tiempos, args.alt, args.vel, args.grav)\n",
    "    vel = calcular_velocidad(rango_tiempos, args.vel, args.grav)\n",
    "    return np.array([rango_tiempos,pos,vel])\n",
    "\n",
    "# ***************************************************************************** \n",
    "\n",
    "verificar_valores()\n",
    "plt.plot(generar_datos())\n",
    "plt.show()"
   ]
  }
 ],
 "metadata": {
  "kernelspec": {
   "display_name": "Python 3",
   "language": "python",
   "name": "python3"
  },
  "language_info": {
   "codemirror_mode": {
    "name": "ipython",
    "version": 3
   },
   "file_extension": ".py",
   "mimetype": "text/x-python",
   "name": "python",
   "nbconvert_exporter": "python",
   "pygments_lexer": "ipython3",
   "version": "3.7.4"
  }
 },
 "nbformat": 4,
 "nbformat_minor": 2
}
