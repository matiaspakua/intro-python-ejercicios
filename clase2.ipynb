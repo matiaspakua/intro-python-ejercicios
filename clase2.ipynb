{
 "cells": [
  {
   "cell_type": "markdown",
   "metadata": {},
   "source": [
    "Python usa por default 32 bits.\n",
    "Numpy usa 64 bits\n",
    "\n",
    "En python, todos los datos son objetos: tienen atributos y metodos."
   ]
  },
  {
   "cell_type": "code",
   "execution_count": null,
   "metadata": {},
   "outputs": [],
   "source": [
    "a=3\n",
    "print(type(a))\n",
    "a.bit_length()  ## cuantos bits se necesitan para representar ese número"
   ]
  },
  {
   "cell_type": "code",
   "execution_count": null,
   "metadata": {},
   "outputs": [],
   "source": [
    "a=123412\n",
    "print(type(a))\n",
    "a.bit_length()"
   ]
  },
  {
   "cell_type": "code",
   "execution_count": null,
   "metadata": {},
   "outputs": [],
   "source": [
    "print(bin(a))"
   ]
  },
  {
   "cell_type": "markdown",
   "metadata": {},
   "source": [
    " "
   ]
  },
  {
   "cell_type": "code",
   "execution_count": null,
   "metadata": {},
   "outputs": [],
   "source": [
    "a = 142.34\n",
    "a.as_integer_ratio()"
   ]
  },
  {
   "cell_type": "code",
   "execution_count": null,
   "metadata": {},
   "outputs": [],
   "source": [
    "s = a.hex()\n",
    "print(s)"
   ]
  },
  {
   "cell_type": "code",
   "execution_count": null,
   "metadata": {},
   "outputs": [],
   "source": [
    "texto_largo = '''ksajdgkjdasajg\n",
    "asdgdasfgadg\n",
    "addfgadfgadgf\n",
    "adfgaddgfafdg\n",
    "fsefsdf'''\n",
    "print(texto_largo)"
   ]
  },
  {
   "cell_type": "code",
   "execution_count": null,
   "metadata": {},
   "outputs": [],
   "source": [
    "texto_largo.find?"
   ]
  },
  {
   "cell_type": "markdown",
   "metadata": {},
   "source": [
    "Ejercicio1: hacer un centrado manual de una frase, sobre una pantalla de 60 caracteres.\n",
    "Ejercicio2: hacer el subrayados de la frase."
   ]
  },
  {
   "cell_type": "code",
   "execution_count": null,
   "metadata": {},
   "outputs": [],
   "source": [
    "s = \"Primer ejercicio con caracteres\""
   ]
  },
  {
   "cell_type": "code",
   "execution_count": null,
   "metadata": {},
   "outputs": [],
   "source": [
    "ancho_pantalla = 60\n",
    "margen = (ancho_pantalla-len(s))//2\n",
    "m = margen*' '\n",
    "print('\\n\\n' + m + s + m)\n",
    "print(m + len(s)*'_')"
   ]
  },
  {
   "cell_type": "code",
   "execution_count": null,
   "metadata": {},
   "outputs": [],
   "source": []
  },
  {
   "cell_type": "markdown",
   "metadata": {},
   "source": [
    "### Strings\n",
    "\n",
    "copy, si uno de los elementos de una lista, es a su vez una lista, enconces, COPY hace una copia de la lista exterior, pero mantiene un puntero a la lista interior.\n",
    "PAra hacer una copia completa, existe un método qe se llama DEEP COPY.\n"
   ]
  },
  {
   "cell_type": "code",
   "execution_count": null,
   "metadata": {},
   "outputs": [],
   "source": [
    "help(list)"
   ]
  },
  {
   "cell_type": "code",
   "execution_count": null,
   "metadata": {},
   "outputs": [],
   "source": [
    "help(range)"
   ]
  },
  {
   "cell_type": "markdown",
   "metadata": {},
   "source": [
    "Ejercicios clase 2\n",
    "usando CMATH (para numeros complejos)"
   ]
  },
  {
   "cell_type": "code",
   "execution_count": null,
   "metadata": {},
   "outputs": [],
   "source": [
    "import cmath\n",
    "\n",
    "z = 1 - 0.5j\n",
    "\n",
    "print(cmath.polar(z))\n",
    "print(cmath.polar(z**2))\n",
    "print(cmath.polar(z**3))\n"
   ]
  },
  {
   "cell_type": "markdown",
   "metadata": {},
   "source": [
    "Manejo de listas"
   ]
  },
  {
   "cell_type": "code",
   "execution_count": null,
   "metadata": {},
   "outputs": [],
   "source": [
    "N = list(range(1,51))\n",
    "print(N)\n",
    "rN = list(reversed(N))\n",
    "print(rN)"
   ]
  },
  {
   "cell_type": "code",
   "execution_count": null,
   "metadata": {},
   "outputs": [],
   "source": [
    "N2 = [value for value in N if (value%2)==0]\n",
    "print(N2)"
   ]
  },
  {
   "cell_type": "code",
   "execution_count": null,
   "metadata": {},
   "outputs": [],
   "source": [
    "import math\n",
    "\n",
    "N3 = [value for value in N if (math.sqrt(value).is_integer())]\n",
    "\n",
    "print(N3)"
   ]
  },
  {
   "cell_type": "code",
   "execution_count": null,
   "metadata": {},
   "outputs": [],
   "source": [
    "L = list(range(1,18,2)) \n",
    "L1 = list(reversed(L))\n",
    "L2 = L + L1\n",
    "print(L2)"
   ]
  },
  {
   "cell_type": "code",
   "execution_count": null,
   "metadata": {},
   "outputs": [],
   "source": [
    "L = [0,1]\n",
    "L.append(L)\n",
    "print(L)\n",
    "print(L[-1])\n",
    "L1=L[-1]\n",
    "print(L1)"
   ]
  },
  {
   "cell_type": "code",
   "execution_count": null,
   "metadata": {},
   "outputs": [],
   "source": [
    "s1='En un lugar de la Mancha de cuyo nombre no quiero acordarme'\n",
    "print(len(s1))\n",
    "palabra = [sub for sub in s1 sub.capitalize()]\n",
    "print(palabra)\n",
    "#print(s1.count('a'))"
   ]
  },
  {
   "cell_type": "markdown",
   "metadata": {},
   "source": [
    "### Ejercicio 3"
   ]
  },
  {
   "cell_type": "code",
   "execution_count": 1,
   "metadata": {},
   "outputs": [],
   "source": [
    "s = '''Aquí me pongo a cantar\n",
    "Al compás de la vigüela,\n",
    "Que el hombre que lo desvela\n",
    "Una pena estraordinaria\n",
    "Como la ave solitaria\n",
    "Con el cantar se consuela.'''"
   ]
  },
  {
   "cell_type": "code",
   "execution_count": 2,
   "metadata": {},
   "outputs": [
    {
     "name": "stdout",
     "output_type": "stream",
     "text": [
      "Todas las ocurrencias, sin distinguir: \n",
      "'es' aparece: 2 veces\n",
      ",'la' aparece: 5 veces\n",
      ",'que' aparece: 2 veces\n",
      " y 'co' aparece: 4 veces\n",
      "\n",
      "Las ocurrencias, distinguiendo: \n",
      "'Es' aparece: 0 veces\n",
      ",'La' aparece: 0 veces\n",
      ",'Que' aparece: 1 veces\n",
      " y 'Co' aparece: 2 veces\n",
      "\n"
     ]
    }
   ],
   "source": [
    "# 1) distinguiendo mayusculas y minusculas: es, la, que, con y Es, La, Que, Co\n",
    "smin = s.lower()\n",
    "\n",
    "es = smin.count('es')\n",
    "la = smin.count('la')\n",
    "que = smin.count('que')\n",
    "co = smin.count('co')\n",
    "\n",
    "Es = s.count('Es')\n",
    "La = s.count('La')\n",
    "Que = s.count('Que')\n",
    "Co = s.count('Co')\n",
    "\n",
    "print(\"Todas las ocurrencias, sin distinguir: \")\n",
    "print(\"'es' aparece: {} veces\\n,'la' aparece: {} veces\\n,'que' aparece: {} veces\\n y 'co' aparece: {} veces\\n\".format(es,la,que,co))\n",
    "print(\"Las ocurrencias, distinguiendo: \")\n",
    "print(\"'Es' aparece: {} veces\\n,'La' aparece: {} veces\\n,'Que' aparece: {} veces\\n y 'Co' aparece: {} veces\\n\".format(Es,La,Que,Co))\n"
   ]
  },
  {
   "cell_type": "code",
   "execution_count": 4,
   "metadata": {},
   "outputs": [
    {
     "name": "stdout",
     "output_type": "stream",
     "text": [
      "La palabra más larga es: Que el hombre que lo desvela y tiene 28 caracteres.\n",
      "<class 'list'>\n"
     ]
    }
   ],
   "source": [
    "# 2) Cree una lista, donde cada elemento es una línea del string s y \n",
    "# encuentre la de mayor longitud. Imprima por pantalla la línea y su longitud.\n",
    "lineas = s.splitlines()\n",
    "max_len = 0\n",
    "max_index = 0\n",
    "i = 0\n",
    "for palabra in lineas:\n",
    "    if len(palabra) > max_len:\n",
    "        max_len = len(palabra)\n",
    "        max_index = i\n",
    "    i+=1\n",
    "print(\"La palabra más larga es: {} y tiene {} caracteres.\".format(lineas[max_index], max_len))\n",
    "print(type(lineas))"
   ]
  },
  {
   "cell_type": "code",
   "execution_count": 5,
   "metadata": {},
   "outputs": [
    {
     "name": "stdout",
     "output_type": "stream",
     "text": [
      "Aquí uela.\n",
      "10\n"
     ]
    }
   ],
   "source": [
    "# 3) Forme un nuevo string de 10 caracteres que contenga los 5 \n",
    "# primeros y los 5 últimos del string anterior s. Imprima por pantalla \n",
    "# el nuevo string.\n",
    "\n",
    "s_nuevo = s[0:5:1] + s[-5:]\n",
    "print(s_nuevo)\n",
    "print(len(s_nuevo))"
   ]
  },
  {
   "cell_type": "code",
   "execution_count": 7,
   "metadata": {},
   "outputs": [
    {
     "name": "stdout",
     "output_type": "stream",
     "text": [
      "desvela\n",
      "Un\n",
      "10\n"
     ]
    }
   ],
   "source": [
    "# 4) Forme un nuevo string que contenga los 10 caracteres centrales de s \n",
    "# (utilizando un método que pueda aplicarse a otros strings también). Imprima \n",
    "# por pantalla el nuevo string.\n",
    "\n",
    "middle = int(len(s)/2)\n",
    "s_centro = s[middle-5:middle+5:1]\n",
    "\n",
    "print(s_centro)\n",
    "print(len(s_centro))\n"
   ]
  },
  {
   "cell_type": "code",
   "execution_count": 24,
   "metadata": {},
   "outputs": [
    {
     "name": "stdout",
     "output_type": "stream",
     "text": [
      "Aquí ne pomgo a camtar\n",
      "Al conpás de la vigüela,\n",
      "Que el honbre que lo desvela\n",
      "Uma pema estraordimaria\n",
      "Cono la ave solitaria\n",
      "Com el camtar se comsuela.\n"
     ]
    }
   ],
   "source": [
    "# 5) Cambie todas las letras \"m\" por \"n\" y todas las letras \"n\" por \"m\" \n",
    "# en s. Imprima el resultado por pantalla.\n",
    "\n",
    "i = 0\n",
    "s_reemplazado = ''\n",
    "while i<len(s):\n",
    "    \n",
    "    if s[i] == 'm':\n",
    "        s_reemplazado = s_reemplazado + 'n'\n",
    "    elif s[i] == 'n':\n",
    "        s_reemplazado =s_reemplazado + 'm'\n",
    "    else:\n",
    "        s_reemplazado =s_reemplazado + s[i]\n",
    "    i+=1\n",
    "print(s_reemplazado)"
   ]
  },
  {
   "cell_type": "code",
   "execution_count": null,
   "metadata": {},
   "outputs": [],
   "source": []
  }
 ],
 "metadata": {
  "kernelspec": {
   "display_name": "Python 3",
   "language": "python",
   "name": "python3"
  },
  "language_info": {
   "codemirror_mode": {
    "name": "ipython",
    "version": 3
   },
   "file_extension": ".py",
   "mimetype": "text/x-python",
   "name": "python",
   "nbconvert_exporter": "python",
   "pygments_lexer": "ipython3",
   "version": "3.7.4"
  }
 },
 "nbformat": 4,
 "nbformat_minor": 2
}
