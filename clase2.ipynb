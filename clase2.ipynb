{
 "cells": [
  {
   "cell_type": "markdown",
   "metadata": {},
   "source": [
    "Python usa por default 32 bits.\n",
    "Numpy usa 64 bits\n",
    "\n",
    "En python, todos los datos son objetos: tienen atributos y metodos."
   ]
  },
  {
   "cell_type": "code",
   "execution_count": 1,
   "metadata": {},
   "outputs": [
    {
     "name": "stdout",
     "output_type": "stream",
     "text": [
      "<class 'int'>\n"
     ]
    },
    {
     "data": {
      "text/plain": [
       "2"
      ]
     },
     "execution_count": 1,
     "metadata": {},
     "output_type": "execute_result"
    }
   ],
   "source": [
    "a=3\n",
    "print(type(a))\n",
    "a.bit_length()  ## cuantos bits se necesitan para representar ese número"
   ]
  },
  {
   "cell_type": "code",
   "execution_count": 2,
   "metadata": {},
   "outputs": [
    {
     "name": "stdout",
     "output_type": "stream",
     "text": [
      "<class 'int'>\n"
     ]
    },
    {
     "data": {
      "text/plain": [
       "17"
      ]
     },
     "execution_count": 2,
     "metadata": {},
     "output_type": "execute_result"
    }
   ],
   "source": [
    "a=123412\n",
    "print(type(a))\n",
    "a.bit_length()"
   ]
  },
  {
   "cell_type": "code",
   "execution_count": 3,
   "metadata": {},
   "outputs": [
    {
     "name": "stdout",
     "output_type": "stream",
     "text": [
      "0b11110001000010100\n"
     ]
    }
   ],
   "source": [
    "print(bin(a))"
   ]
  },
  {
   "cell_type": "markdown",
   "metadata": {},
   "source": [
    " "
   ]
  },
  {
   "cell_type": "code",
   "execution_count": 4,
   "metadata": {},
   "outputs": [
    {
     "data": {
      "text/plain": [
       "(5008143523124347, 35184372088832)"
      ]
     },
     "execution_count": 4,
     "metadata": {},
     "output_type": "execute_result"
    }
   ],
   "source": [
    "a = 142.34\n",
    "a.as_integer_ratio()"
   ]
  },
  {
   "cell_type": "code",
   "execution_count": 5,
   "metadata": {},
   "outputs": [
    {
     "name": "stdout",
     "output_type": "stream",
     "text": [
      "0x1.1cae147ae147bp+7\n"
     ]
    }
   ],
   "source": [
    "s = a.hex()\n",
    "print(s)"
   ]
  },
  {
   "cell_type": "code",
   "execution_count": 6,
   "metadata": {},
   "outputs": [
    {
     "name": "stdout",
     "output_type": "stream",
     "text": [
      "ksajdgkjdasajg\n",
      "asdgdasfgadg\n",
      "addfgadfgadgf\n",
      "adfgaddgfafdg\n",
      "fsefsdf\n"
     ]
    }
   ],
   "source": [
    "texto_largo = '''ksajdgkjdasajg\n",
    "asdgdasfgadg\n",
    "addfgadfgadgf\n",
    "adfgaddgfafdg\n",
    "fsefsdf'''\n",
    "print(texto_largo)"
   ]
  },
  {
   "cell_type": "code",
   "execution_count": 7,
   "metadata": {},
   "outputs": [],
   "source": [
    "texto_largo.find?"
   ]
  },
  {
   "cell_type": "markdown",
   "metadata": {},
   "source": [
    "Ejercicio1: hacer un centrado manual de una frase, sobre una pantalla de 60 caracteres.\n",
    "Ejercicio2: hacer el subrayados de la frase."
   ]
  },
  {
   "cell_type": "code",
   "execution_count": 12,
   "metadata": {},
   "outputs": [],
   "source": [
    "s = \"Primer ejercicio con caracteres\""
   ]
  },
  {
   "cell_type": "code",
   "execution_count": 13,
   "metadata": {},
   "outputs": [
    {
     "name": "stdout",
     "output_type": "stream",
     "text": [
      "\n",
      "\n",
      "              Primer ejercicio con caracteres              \n",
      "              _______________________________\n"
     ]
    }
   ],
   "source": [
    "ancho_pantalla = 60\n",
    "margen = (ancho_pantalla-len(s))//2\n",
    "m = margen*' '\n",
    "print('\\n\\n' + m + s + m)\n",
    "print(m + len(s)*'_')"
   ]
  },
  {
   "cell_type": "code",
   "execution_count": null,
   "metadata": {},
   "outputs": [],
   "source": []
  },
  {
   "cell_type": "markdown",
   "metadata": {},
   "source": [
    "### Strings\n",
    "\n",
    "copy, si uno de los elementos de una lista, es a su vez una lista, enconces, COPY hace una copia de la lista exterior, pero mantiene un puntero a la lista interior.\n",
    "PAra hacer una copia completa, existe un método qe se llama DEEP COPY.\n"
   ]
  },
  {
   "cell_type": "code",
   "execution_count": 14,
   "metadata": {},
   "outputs": [
    {
     "name": "stdout",
     "output_type": "stream",
     "text": [
      "Help on class list in module builtins:\n",
      "\n",
      "class list(object)\n",
      " |  list(iterable=(), /)\n",
      " |  \n",
      " |  Built-in mutable sequence.\n",
      " |  \n",
      " |  If no argument is given, the constructor creates a new empty list.\n",
      " |  The argument must be an iterable if specified.\n",
      " |  \n",
      " |  Methods defined here:\n",
      " |  \n",
      " |  __add__(self, value, /)\n",
      " |      Return self+value.\n",
      " |  \n",
      " |  __contains__(self, key, /)\n",
      " |      Return key in self.\n",
      " |  \n",
      " |  __delitem__(self, key, /)\n",
      " |      Delete self[key].\n",
      " |  \n",
      " |  __eq__(self, value, /)\n",
      " |      Return self==value.\n",
      " |  \n",
      " |  __ge__(self, value, /)\n",
      " |      Return self>=value.\n",
      " |  \n",
      " |  __getattribute__(self, name, /)\n",
      " |      Return getattr(self, name).\n",
      " |  \n",
      " |  __getitem__(...)\n",
      " |      x.__getitem__(y) <==> x[y]\n",
      " |  \n",
      " |  __gt__(self, value, /)\n",
      " |      Return self>value.\n",
      " |  \n",
      " |  __iadd__(self, value, /)\n",
      " |      Implement self+=value.\n",
      " |  \n",
      " |  __imul__(self, value, /)\n",
      " |      Implement self*=value.\n",
      " |  \n",
      " |  __init__(self, /, *args, **kwargs)\n",
      " |      Initialize self.  See help(type(self)) for accurate signature.\n",
      " |  \n",
      " |  __iter__(self, /)\n",
      " |      Implement iter(self).\n",
      " |  \n",
      " |  __le__(self, value, /)\n",
      " |      Return self<=value.\n",
      " |  \n",
      " |  __len__(self, /)\n",
      " |      Return len(self).\n",
      " |  \n",
      " |  __lt__(self, value, /)\n",
      " |      Return self<value.\n",
      " |  \n",
      " |  __mul__(self, value, /)\n",
      " |      Return self*value.\n",
      " |  \n",
      " |  __ne__(self, value, /)\n",
      " |      Return self!=value.\n",
      " |  \n",
      " |  __repr__(self, /)\n",
      " |      Return repr(self).\n",
      " |  \n",
      " |  __reversed__(self, /)\n",
      " |      Return a reverse iterator over the list.\n",
      " |  \n",
      " |  __rmul__(self, value, /)\n",
      " |      Return value*self.\n",
      " |  \n",
      " |  __setitem__(self, key, value, /)\n",
      " |      Set self[key] to value.\n",
      " |  \n",
      " |  __sizeof__(self, /)\n",
      " |      Return the size of the list in memory, in bytes.\n",
      " |  \n",
      " |  append(self, object, /)\n",
      " |      Append object to the end of the list.\n",
      " |  \n",
      " |  clear(self, /)\n",
      " |      Remove all items from list.\n",
      " |  \n",
      " |  copy(self, /)\n",
      " |      Return a shallow copy of the list.\n",
      " |  \n",
      " |  count(self, value, /)\n",
      " |      Return number of occurrences of value.\n",
      " |  \n",
      " |  extend(self, iterable, /)\n",
      " |      Extend list by appending elements from the iterable.\n",
      " |  \n",
      " |  index(self, value, start=0, stop=9223372036854775807, /)\n",
      " |      Return first index of value.\n",
      " |      \n",
      " |      Raises ValueError if the value is not present.\n",
      " |  \n",
      " |  insert(self, index, object, /)\n",
      " |      Insert object before index.\n",
      " |  \n",
      " |  pop(self, index=-1, /)\n",
      " |      Remove and return item at index (default last).\n",
      " |      \n",
      " |      Raises IndexError if list is empty or index is out of range.\n",
      " |  \n",
      " |  remove(self, value, /)\n",
      " |      Remove first occurrence of value.\n",
      " |      \n",
      " |      Raises ValueError if the value is not present.\n",
      " |  \n",
      " |  reverse(self, /)\n",
      " |      Reverse *IN PLACE*.\n",
      " |  \n",
      " |  sort(self, /, *, key=None, reverse=False)\n",
      " |      Stable sort *IN PLACE*.\n",
      " |  \n",
      " |  ----------------------------------------------------------------------\n",
      " |  Static methods defined here:\n",
      " |  \n",
      " |  __new__(*args, **kwargs) from builtins.type\n",
      " |      Create and return a new object.  See help(type) for accurate signature.\n",
      " |  \n",
      " |  ----------------------------------------------------------------------\n",
      " |  Data and other attributes defined here:\n",
      " |  \n",
      " |  __hash__ = None\n",
      "\n"
     ]
    }
   ],
   "source": [
    "help(list)"
   ]
  },
  {
   "cell_type": "code",
   "execution_count": 15,
   "metadata": {},
   "outputs": [
    {
     "name": "stdout",
     "output_type": "stream",
     "text": [
      "Help on class range in module builtins:\n",
      "\n",
      "class range(object)\n",
      " |  range(stop) -> range object\n",
      " |  range(start, stop[, step]) -> range object\n",
      " |  \n",
      " |  Return an object that produces a sequence of integers from start (inclusive)\n",
      " |  to stop (exclusive) by step.  range(i, j) produces i, i+1, i+2, ..., j-1.\n",
      " |  start defaults to 0, and stop is omitted!  range(4) produces 0, 1, 2, 3.\n",
      " |  These are exactly the valid indices for a list of 4 elements.\n",
      " |  When step is given, it specifies the increment (or decrement).\n",
      " |  \n",
      " |  Methods defined here:\n",
      " |  \n",
      " |  __bool__(self, /)\n",
      " |      self != 0\n",
      " |  \n",
      " |  __contains__(self, key, /)\n",
      " |      Return key in self.\n",
      " |  \n",
      " |  __eq__(self, value, /)\n",
      " |      Return self==value.\n",
      " |  \n",
      " |  __ge__(self, value, /)\n",
      " |      Return self>=value.\n",
      " |  \n",
      " |  __getattribute__(self, name, /)\n",
      " |      Return getattr(self, name).\n",
      " |  \n",
      " |  __getitem__(self, key, /)\n",
      " |      Return self[key].\n",
      " |  \n",
      " |  __gt__(self, value, /)\n",
      " |      Return self>value.\n",
      " |  \n",
      " |  __hash__(self, /)\n",
      " |      Return hash(self).\n",
      " |  \n",
      " |  __iter__(self, /)\n",
      " |      Implement iter(self).\n",
      " |  \n",
      " |  __le__(self, value, /)\n",
      " |      Return self<=value.\n",
      " |  \n",
      " |  __len__(self, /)\n",
      " |      Return len(self).\n",
      " |  \n",
      " |  __lt__(self, value, /)\n",
      " |      Return self<value.\n",
      " |  \n",
      " |  __ne__(self, value, /)\n",
      " |      Return self!=value.\n",
      " |  \n",
      " |  __reduce__(...)\n",
      " |      Helper for pickle.\n",
      " |  \n",
      " |  __repr__(self, /)\n",
      " |      Return repr(self).\n",
      " |  \n",
      " |  __reversed__(...)\n",
      " |      Return a reverse iterator.\n",
      " |  \n",
      " |  count(...)\n",
      " |      rangeobject.count(value) -> integer -- return number of occurrences of value\n",
      " |  \n",
      " |  index(...)\n",
      " |      rangeobject.index(value) -> integer -- return index of value.\n",
      " |      Raise ValueError if the value is not present.\n",
      " |  \n",
      " |  ----------------------------------------------------------------------\n",
      " |  Static methods defined here:\n",
      " |  \n",
      " |  __new__(*args, **kwargs) from builtins.type\n",
      " |      Create and return a new object.  See help(type) for accurate signature.\n",
      " |  \n",
      " |  ----------------------------------------------------------------------\n",
      " |  Data descriptors defined here:\n",
      " |  \n",
      " |  start\n",
      " |  \n",
      " |  step\n",
      " |  \n",
      " |  stop\n",
      "\n"
     ]
    }
   ],
   "source": [
    "help(range)"
   ]
  },
  {
   "cell_type": "markdown",
   "metadata": {},
   "source": [
    "Ejercicios clase 2\n",
    "usando CMATH (para numeros complejos)"
   ]
  },
  {
   "cell_type": "code",
   "execution_count": 10,
   "metadata": {},
   "outputs": [
    {
     "name": "stdout",
     "output_type": "stream",
     "text": [
      "(1.118033988749895, -0.4636476090008061)\n",
      "(1.25, -0.9272952180016122)\n",
      "(1.3975424859373686, -1.3909428270024184)\n"
     ]
    }
   ],
   "source": [
    "import cmath\n",
    "\n",
    "z = 1 - 0.5j\n",
    "\n",
    "print(cmath.polar(z))\n",
    "print(cmath.polar(z**2))\n",
    "print(cmath.polar(z**3))\n"
   ]
  },
  {
   "cell_type": "markdown",
   "metadata": {},
   "source": [
    "Manejo de listas"
   ]
  },
  {
   "cell_type": "code",
   "execution_count": 11,
   "metadata": {},
   "outputs": [
    {
     "name": "stdout",
     "output_type": "stream",
     "text": [
      "[1, 2, 3, 4, 5, 6, 7, 8, 9, 10, 11, 12, 13, 14, 15, 16, 17, 18, 19, 20, 21, 22, 23, 24, 25, 26, 27, 28, 29, 30, 31, 32, 33, 34, 35, 36, 37, 38, 39, 40, 41, 42, 43, 44, 45, 46, 47, 48, 49, 50]\n",
      "[50, 49, 48, 47, 46, 45, 44, 43, 42, 41, 40, 39, 38, 37, 36, 35, 34, 33, 32, 31, 30, 29, 28, 27, 26, 25, 24, 23, 22, 21, 20, 19, 18, 17, 16, 15, 14, 13, 12, 11, 10, 9, 8, 7, 6, 5, 4, 3, 2, 1]\n"
     ]
    }
   ],
   "source": [
    "N = list(range(1,51))\n",
    "print(N)\n",
    "rN = list(reversed(N))\n",
    "print(rN)"
   ]
  },
  {
   "cell_type": "code",
   "execution_count": null,
   "metadata": {},
   "outputs": [],
   "source": [
    "N2 = [value for value in N if (value%2)==0]\n",
    "print(N2)"
   ]
  },
  {
   "cell_type": "code",
   "execution_count": null,
   "metadata": {},
   "outputs": [],
   "source": [
    "import math\n",
    "\n",
    "N3 = [value for value in N if (math.sqrt(value).is_integer())]\n",
    "\n",
    "print(N3)"
   ]
  },
  {
   "cell_type": "code",
   "execution_count": null,
   "metadata": {},
   "outputs": [],
   "source": [
    "L = list(range(1,18,2)) \n",
    "L1 = list(reversed(L))\n",
    "L2 = L + L1\n",
    "print(L2)"
   ]
  },
  {
   "cell_type": "code",
   "execution_count": null,
   "metadata": {},
   "outputs": [],
   "source": [
    "L = [0,1]\n",
    "L.append(L)\n",
    "print(L)\n",
    "print(L[-1])\n",
    "L1=L[-1]\n",
    "print(L1)"
   ]
  },
  {
   "cell_type": "code",
   "execution_count": null,
   "metadata": {},
   "outputs": [],
   "source": [
    "s1='En un lugar de la Mancha de cuyo nombre no quiero acordarme'\n",
    "print(len(s1))\n",
    "palabra = [sub for sub in s1 sub.capitalize()]\n",
    "print(palabra)\n",
    "#print(s1.count('a'))"
   ]
  },
  {
   "cell_type": "markdown",
   "metadata": {},
   "source": [
    "### Ejercicio 3"
   ]
  },
  {
   "cell_type": "code",
   "execution_count": 1,
   "metadata": {},
   "outputs": [],
   "source": [
    "s = '''Aquí me pongo a cantar\n",
    "Al compás de la vigüela,\n",
    "Que el hombre que lo desvela\n",
    "Una pena estraordinaria\n",
    "Como la ave solitaria\n",
    "Con el cantar se consuela.'''"
   ]
  },
  {
   "cell_type": "code",
   "execution_count": 2,
   "metadata": {},
   "outputs": [
    {
     "name": "stdout",
     "output_type": "stream",
     "text": [
      "Todas las ocurrencias, sin distinguir: \n",
      "'es' aparece: 2 veces\n",
      ",'la' aparece: 5 veces\n",
      ",'que' aparece: 2 veces\n",
      " y 'co' aparece: 4 veces\n",
      "\n",
      "Las ocurrencias, distinguiendo: \n",
      "'Es' aparece: 0 veces\n",
      ",'La' aparece: 0 veces\n",
      ",'Que' aparece: 1 veces\n",
      " y 'Co' aparece: 2 veces\n",
      "\n"
     ]
    }
   ],
   "source": [
    "# 1) distinguiendo mayusculas y minusculas: es, la, que, con y Es, La, Que, Co\n",
    "smin = s.lower()\n",
    "\n",
    "es = smin.count('es')\n",
    "la = smin.count('la')\n",
    "que = smin.count('que')\n",
    "co = smin.count('co')\n",
    "\n",
    "Es = s.count('Es')\n",
    "La = s.count('La')\n",
    "Que = s.count('Que')\n",
    "Co = s.count('Co')\n",
    "\n",
    "print(\"Todas las ocurrencias, sin distinguir: \")\n",
    "print(\"'es' aparece: {} veces\\n,'la' aparece: {} veces\\n,'que' aparece: {} veces\\n y 'co' aparece: {} veces\\n\".format(es,la,que,co))\n",
    "print(\"Las ocurrencias, distinguiendo: \")\n",
    "print(\"'Es' aparece: {} veces\\n,'La' aparece: {} veces\\n,'Que' aparece: {} veces\\n y 'Co' aparece: {} veces\\n\".format(Es,La,Que,Co))\n"
   ]
  },
  {
   "cell_type": "code",
   "execution_count": 4,
   "metadata": {},
   "outputs": [
    {
     "name": "stdout",
     "output_type": "stream",
     "text": [
      "La palabra más larga es: Que el hombre que lo desvela y tiene 28 caracteres.\n",
      "<class 'list'>\n"
     ]
    }
   ],
   "source": [
    "# 2) Cree una lista, donde cada elemento es una línea del string s y \n",
    "# encuentre la de mayor longitud. Imprima por pantalla la línea y su longitud.\n",
    "lineas = s.splitlines()\n",
    "max_len = 0\n",
    "max_index = 0\n",
    "i = 0\n",
    "for palabra in lineas:\n",
    "    if len(palabra) > max_len:\n",
    "        max_len = len(palabra)\n",
    "        max_index = i\n",
    "    i+=1\n",
    "print(\"La palabra más larga es: {} y tiene {} caracteres.\".format(lineas[max_index], max_len))\n",
    "print(type(lineas))"
   ]
  },
  {
   "cell_type": "code",
   "execution_count": 5,
   "metadata": {},
   "outputs": [
    {
     "name": "stdout",
     "output_type": "stream",
     "text": [
      "Aquí uela.\n",
      "10\n"
     ]
    }
   ],
   "source": [
    "# 3) Forme un nuevo string de 10 caracteres que contenga los 5 \n",
    "# primeros y los 5 últimos del string anterior s. Imprima por pantalla \n",
    "# el nuevo string.\n",
    "\n",
    "s_nuevo = s[0:5:1] + s[-5:]\n",
    "print(s_nuevo)\n",
    "print(len(s_nuevo))"
   ]
  },
  {
   "cell_type": "code",
   "execution_count": 7,
   "metadata": {},
   "outputs": [
    {
     "name": "stdout",
     "output_type": "stream",
     "text": [
      "desvela\n",
      "Un\n",
      "10\n"
     ]
    }
   ],
   "source": [
    "# 4) Forme un nuevo string que contenga los 10 caracteres centrales de s \n",
    "# (utilizando un método que pueda aplicarse a otros strings también). Imprima \n",
    "# por pantalla el nuevo string.\n",
    "\n",
    "middle = int(len(s)/2)\n",
    "s_centro = s[middle-5:middle+5:1]\n",
    "\n",
    "print(s_centro)\n",
    "print(len(s_centro))\n"
   ]
  },
  {
   "cell_type": "code",
   "execution_count": 24,
   "metadata": {},
   "outputs": [
    {
     "name": "stdout",
     "output_type": "stream",
     "text": [
      "Aquí ne pomgo a camtar\n",
      "Al conpás de la vigüela,\n",
      "Que el honbre que lo desvela\n",
      "Uma pema estraordimaria\n",
      "Cono la ave solitaria\n",
      "Com el camtar se comsuela.\n"
     ]
    }
   ],
   "source": [
    "# 5) Cambie todas las letras \"m\" por \"n\" y todas las letras \"n\" por \"m\" \n",
    "# en s. Imprima el resultado por pantalla.\n",
    "\n",
    "i = 0\n",
    "s_reemplazado = ''\n",
    "while i<len(s):\n",
    "    \n",
    "    if s[i] == 'm':\n",
    "        s_reemplazado = s_reemplazado + 'n'\n",
    "    elif s[i] == 'n':\n",
    "        s_reemplazado =s_reemplazado + 'm'\n",
    "    else:\n",
    "        s_reemplazado =s_reemplazado + s[i]\n",
    "    i+=1\n",
    "print(s_reemplazado)"
   ]
  },
  {
   "cell_type": "code",
   "execution_count": null,
   "metadata": {},
   "outputs": [],
   "source": []
  }
 ],
 "metadata": {
  "kernelspec": {
   "display_name": "Python 3",
   "language": "python",
   "name": "python3"
  },
  "language_info": {
   "codemirror_mode": {
    "name": "ipython",
    "version": 3
   },
   "file_extension": ".py",
   "mimetype": "text/x-python",
   "name": "python",
   "nbconvert_exporter": "python",
   "pygments_lexer": "ipython3",
   "version": "3.7.4"
  }
 },
 "nbformat": 4,
 "nbformat_minor": 2
}
