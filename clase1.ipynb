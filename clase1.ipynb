{
 "cells": [
  {
   "cell_type": "markdown",
   "metadata": {},
   "source": [
    "pagina con clases: https:\\\\github.com\\fiolj\\intro-python-IM\\\n",
    "email = fiol@cab.cnea.gov.ar\n",
    "        \n",
    "mandar mail son subject: curso python, nombre y apellido.\n",
    "    \n",
    "Lunes Aula: falicov\n",
    "Miercoles: ex biblioteca"
   ]
  },
  {
   "cell_type": "code",
   "execution_count": null,
   "metadata": {},
   "outputs": [],
   "source": [
    "##\n",
    "#Python\n",
    "#Interpretado\n",
    "#Desventaja: velocidad\n",
    "#\n",
    "#ipython -> consola interactiva con ayudas en la escritura, documentación.\n",
    "#jupyter\n",
    "#\n",
    "#bibliotecas\n",
    "#numpy -> array de datos y matrices.\n",
    "#matplotlib -> graficación\n",
    "#scipy -> calculo científico\n",
    "#\n",
    "#otras bilbiotecas interesantes:\n",
    "#Pandas\n",
    "#sympy\n",
    "#\n",
    "#Anaconda\n",
    "#\n",
    "#Los contextos de ejecución están definidos por la identación.\n",
    "# - funciones\n",
    "# - bloques, etc.\n",
    "# \n",
    "# \n",
    "##\n",
    "\n",
    "import os\n",
    "import time\n",
    "import math\n",
    "\n",
    "#print(\"hola\")\n",
    "##help(print)\n",
    "#\n",
    "#os.getcwd()\n",
    "#\n",
    "#os.listdir('.')\n",
    "#\n",
    "#os.mkdir('tmp')\n",
    "#\n",
    "#time.strftime('%H:%M:%S')\n",
    "#\n",
    "#os.rmdir('tmp')\n",
    "\n",
    "#pi = 3.14\n",
    "\n",
    "def cubos_sup_vol(longitud):\n",
    "    sup = ((longitud**2)*6)\n",
    "    vol = (longitud**3)\n",
    "    print ('longitud: ', longitud, 'superficie: ', sup, 'volumen: ', vol)\n",
    "\n",
    "def esferas_sup_vol(radio):\n",
    "    sup = ((4*math.pi)*(radio**2))\n",
    "    vol = ((4/3*math.pi)*(radio**3))\n",
    "    print ('radio: ', radio, 'superficie: ', sup, 'volumen: ', vol)\n",
    "\n",
    "def cuadratica(x):\n",
    "    return ((x**2) + x/4 - 1/2)\n",
    "\n",
    "cubos_sup_vol(1)\n",
    "cubos_sup_vol(3)\n",
    "cubos_sup_vol(5)\n",
    "cubos_sup_vol(8)\n",
    "\n",
    "esferas_sup_vol(1)\n",
    "esferas_sup_vol(3)\n",
    "esferas_sup_vol(5)\n",
    "esferas_sup_vol(8)\n",
    "\n",
    "print(cuadratica(2.05))\n",
    "print(cuadratica(2.11))\n",
    "print(cuadratica(2.21))"
   ]
  },
  {
   "cell_type": "code",
   "execution_count": null,
   "metadata": {},
   "outputs": [],
   "source": [
    "z = 1 + 0.5j"
   ]
  },
  {
   "cell_type": "code",
   "execution_count": null,
   "metadata": {},
   "outputs": [],
   "source": [
    "print(z**2)"
   ]
  },
  {
   "cell_type": "code",
   "execution_count": null,
   "metadata": {},
   "outputs": [],
   "source": [
    "print(z**3)\n",
    "print(z**4)\n",
    "print(z**5)"
   ]
  },
  {
   "cell_type": "code",
   "execution_count": null,
   "metadata": {},
   "outputs": [],
   "source": [
    "z.conjugate()"
   ]
  },
  {
   "cell_type": "code",
   "execution_count": null,
   "metadata": {},
   "outputs": [],
   "source": [
    "(z**2).conjugate()"
   ]
  },
  {
   "cell_type": "code",
   "execution_count": null,
   "metadata": {},
   "outputs": [],
   "source": [
    "(z**3).conjugate()"
   ]
  },
  {
   "cell_type": "code",
   "execution_count": null,
   "metadata": {},
   "outputs": [],
   "source": [
    "value = z.conjugate()\n",
    "print('el conjugado de z=1+0.5j es: {}'.format(value))"
   ]
  },
  {
   "cell_type": "code",
   "execution_count": null,
   "metadata": {},
   "outputs": [],
   "source": [
    "print('el conjugado de z=(1+0.5j)^2 es:', (1+0.5j)**2)"
   ]
  },
  {
   "cell_type": "code",
   "execution_count": null,
   "metadata": {},
   "outputs": [],
   "source": [
    "import math\n",
    "\n",
    "def raices(a, b, c):\n",
    "    raiz1 = (-b+(b**2-4*a*c)**0.5)/(2*a)\n",
    "    raiz2 = (-b-(b**2-4*a*c)**0.5)/(2*a)\n",
    "    return raiz1, raiz2\n",
    "\n",
    "print(raices(1,0,-1))"
   ]
  }
 ],
 "metadata": {
  "kernelspec": {
   "display_name": "Python 3",
   "language": "python",
   "name": "python3"
  },
  "language_info": {
   "codemirror_mode": {
    "name": "ipython",
    "version": 3
   },
   "file_extension": ".py",
   "mimetype": "text/x-python",
   "name": "python",
   "nbconvert_exporter": "python",
   "pygments_lexer": "ipython3",
   "version": "3.7.4"
  }
 },
 "nbformat": 4,
 "nbformat_minor": 2
}
