{
 "cells": [
  {
   "cell_type": "markdown",
   "metadata": {},
   "source": [
    "# Diccionarios"
   ]
  },
  {
   "cell_type": "code",
   "execution_count": 14,
   "metadata": {},
   "outputs": [
    {
     "name": "stdout",
     "output_type": "stream",
     "text": [
      "{'S': '13', 'Z': 'Al', 'A': 27.0, 'M': 26.98153863, 'P': '1.0000', 'MS': 26.9815386}\n",
      "Elemento: Al\n",
      "Número Atómico: 13\n",
      "Número de masa: 27\n",
      "Masa: 26.98154\n"
     ]
    }
   ],
   "source": [
    "aluminio_dict = {}\n",
    "with open(\"../intro-python-IB/data/aluminio.dat\") as f:\n",
    "    s = f.read()\n",
    "for line in s.splitlines():\n",
    "    k,v = line.split(\"=\")\n",
    "    k = k.strip()   #elimino los espacios en blanco.\n",
    "    v = v.strip()\n",
    "    \n",
    "    if k.count('Mass') | k.count('Weight'):\n",
    "        if v.endswith(')'):\n",
    "            mass_value = v.split('(')\n",
    "            v = float(mass_value[0])\n",
    "        else:\n",
    "            v = float(v)\n",
    "        \n",
    "    if k == \"Atomic Number\":\n",
    "        aluminio_dict[\"S\"] = v\n",
    "    elif k == \"Atomic Symbol\":\n",
    "        aluminio_dict[\"Z\"] = v\n",
    "    elif k == \"Mass Number\":\n",
    "        aluminio_dict[\"A\"] = v\n",
    "    elif k == \"Relative Atomic Mass\":\n",
    "        aluminio_dict[\"M\"] = v\n",
    "    elif k == \"Isotopic Composition\":\n",
    "        aluminio_dict[\"P\"] = v\n",
    "    elif k == \"Standard Atomic Weight\":\n",
    "        aluminio_dict[\"MS\"] = v\n",
    "    else:\n",
    "        print(\"Error\")\n",
    "print(aluminio_dict)\n",
    "\n",
    "print('Elemento: {0}\\nNúmero Atómico: {1}\\nNúmero de masa: {2}\\nMasa: {3:.5f}'\n",
    "      .format(aluminio_dict['Z'], aluminio_dict['S'], int(aluminio_dict['A']), aluminio_dict['MS']))"
   ]
  },
  {
   "cell_type": "markdown",
   "metadata": {},
   "source": [
    "# Funciones"
   ]
  },
  {
   "cell_type": "code",
   "execution_count": null,
   "metadata": {},
   "outputs": [],
   "source": [
    "sum"
   ]
  },
  {
   "cell_type": "code",
   "execution_count": null,
   "metadata": {},
   "outputs": [],
   "source": [
    "print"
   ]
  },
  {
   "cell_type": "code",
   "execution_count": null,
   "metadata": {},
   "outputs": [],
   "source": [
    "f = sum\n",
    "help(f)"
   ]
  },
  {
   "cell_type": "markdown",
   "metadata": {},
   "source": [
    "Los argumentos de las funciones, si pasar un parametro y dentro de la funcion le asignas otro valor, entonces se crea un nuevo objeto, y el objeto originar (del scope de afuera) queda igual. *IMPORTANTE*: pero, ,si modificas el objeto original dentro de la función, ahora si cambias el valor original.\n",
    "\n",
    "Entonces, si modificar el valor de un argumento dentro de la función (solo si se modifica, por ejemplo: agregar un elemento a una lista, diccionario, etc.) se comporta como un pasaje de valor por referncia, no por VALOR. Si modificas el argumento dentro de la función con una asignación por ejemplo, se crea una nueva variable."
   ]
  },
  {
   "cell_type": "code",
   "execution_count": 3,
   "metadata": {},
   "outputs": [
    {
     "name": "stdout",
     "output_type": "stream",
     "text": [
      "False\n",
      "False\n",
      "False\n"
     ]
    }
   ],
   "source": [
    "def es_divisible1(x):\n",
    "    \"\"\"Retorna Verdadero si X es divisible por 2,3,5 o 7,\n",
    "    Falso en caso contrario.\n",
    "    \"\"\"\n",
    "    \n",
    "    if x%2==0 | x%3==0 | x%5==0 | x%7==0:\n",
    "        return True\n",
    "    else:\n",
    "        return False\n",
    "\n",
    "print(es_divisible1(2))\n",
    "print(es_divisible1(10))\n",
    "print(es_divisible1(11))\n"
   ]
  },
  {
   "cell_type": "code",
   "execution_count": 51,
   "metadata": {},
   "outputs": [
    {
     "name": "stdout",
     "output_type": "stream",
     "text": [
      "\n",
      "Elemento: Au\n",
      "S= 79\n",
      "Z= Au\n",
      "A= 197\n",
      "Masa= 196.9665687(6)\n",
      "Abundancia= 1.0000\n",
      "Masa Promedio= 196.966569(4)\n",
      "\n",
      "Elemento: C\n",
      "S= 6\n",
      "Z= C\n",
      "A= 12\n",
      "Masa= 12.0000000(0)\n",
      "Abundancia= 0.9893(8)\n",
      "Masa Promedio= 12.0107(8)\n",
      "\n",
      "Elemento: Ca\n",
      "S= 20\n",
      "Z= Ca\n",
      "A= 40\n",
      "Masa= 39.96259098(22)\n",
      "Abundancia= 0.96941(156)\n",
      "Masa Promedio= 40.078(4)\n",
      "\n",
      "Elemento: Cl\n",
      "S= 17\n",
      "Z= Cl\n",
      "A= 35\n",
      "Masa= 34.96885268(4)\n",
      "Abundancia= 0.7576(10)\n",
      "Masa Promedio= 35.453(2)\n",
      "\n",
      "Elemento: H\n",
      "S= 1\n",
      "Z= H\n",
      "A= 1\n",
      "Masa= 1.00782503207(10)\n",
      "Abundancia= 0.999885(70)\n",
      "Masa Promedio= 1.00794(7)\n",
      "\n",
      "Elemento: N\n",
      "S= 7\n",
      "Z= N\n",
      "A= 14\n",
      "Masa= 14.0030740048(6)\n",
      "Abundancia= 0.99636(20)\n",
      "Masa Promedio= 14.0067(2)\n",
      "\n",
      "Elemento: Na\n",
      "S= 11\n",
      "Z= Na\n",
      "A= 23\n",
      "Masa= 22.9897692809(29)\n",
      "Abundancia= 1.0000\n",
      "Masa Promedio= 22.98976928(2)\n",
      "\n",
      "Elemento: O\n",
      "S= 8\n",
      "Z= O\n",
      "A= 16\n",
      "Masa= 15.99491461956(16)\n",
      "Abundancia= 0.99757(16)\n",
      "Masa Promedio= 15.9994(3)\n",
      "\n",
      "\n",
      "\n"
     ]
    }
   ],
   "source": [
    "nombre_archivo = \"../intro-python-IB/data/elementos.dat\"\n",
    "\n",
    "def leer_archivo(nombre):\n",
    "    \"\"\"\n",
    "    Funcion que leer la ruta de un archivo por parámetro y crear\n",
    "    un diccionario donde, la clave es el símbolo del elemento y el\n",
    "    valor de cada clave es un diccionario, con todas las propiedades\n",
    "    del elemento.\n",
    "    \"\"\"\n",
    "    elemento_dict = {}\n",
    "    with open(nombre) as f:\n",
    "        s = f.read()\n",
    "        elemento = {}\n",
    "        elemento_key = ''\n",
    "        for line in s.splitlines():\n",
    "            try:\n",
    "                k,v = line.split(\"=\")\n",
    "                k = k.strip()   #elimino los espacios en blanco.\n",
    "                v = v.strip()\n",
    "                elemento[k] = v\n",
    "                if 'Atomic Symbol' in k:\n",
    "                    elemento_key = elemento['Atomic Symbol']\n",
    "            except:\n",
    "                elemento_dict[elemento_key] = elemento\n",
    "                elemento = {}\n",
    "                #linea en blanco es ignorada\n",
    "                continue\n",
    "    return elemento_dict\n",
    "\n",
    "\n",
    "def ordenar_alfabericamente(diccionario, reverse=False):\n",
    "    \"\"\"\n",
    "    Funcion que recibe un diccionario como parámetros y escribe en un\n",
    "    string el contenido del diccionario, ordenado alfabeticamente\n",
    "    por la KEY del mismo y devuelve el string resultante.\n",
    "    \"\"\"\n",
    "    keys = list(diccionario.keys())\n",
    "    keys.sort(reverse=reverse)\n",
    "    dict_to_string = \"\\n\"\n",
    "    for k in keys:\n",
    "        elemento = diccionario[k]\n",
    "        \n",
    "        dict_to_string += \"Elemento: \" + k + \"\\n\"\n",
    "        \n",
    "        for sub_keys, value in elemento.items():\n",
    "            \n",
    "            if \"Atomic Number\" in sub_keys:\n",
    "                dict_to_string += \"S= \" + value + \"\\n\"\n",
    "            elif \"Atomic Symbol\" in sub_keys:\n",
    "                dict_to_string += \"Z= \" + value + \"\\n\"\n",
    "            elif \"Mass Number\" in sub_keys:\n",
    "                dict_to_string += \"A= \" + value + \"\\n\"\n",
    "            elif \"Relative Atomic Mass\" in sub_keys:\n",
    "                dict_to_string += \"Masa= \" + value + \"\\n\"\n",
    "            elif \"Isotopic Composition\" in sub_keys:\n",
    "                dict_to_string += \"Abundancia= \" + value + \"\\n\"\n",
    "            elif \"Standard Atomic Weight\" in sub_keys:\n",
    "                dict_to_string += \"Masa Promedio= \" + value + \"\\n\"\n",
    "        dict_to_string += \"\\n\"\n",
    "    return dict_to_string\n",
    "\n",
    "def agregar_a_archivo(nombre_archivo, texto):\n",
    "    \"\"\"\n",
    "    Función que recibe un nombre de archivo y un string y \n",
    "    escribe el string en el archivo dado.\n",
    "    \"\"\"\n",
    "    with open(nombre_archivo, 'w') as f:\n",
    "        written = f.write(texto + '\\n')\n",
    "        \n",
    "    with open(nombre_archivo) as f:\n",
    "        print(f.read())\n",
    "        \n",
    "    \n",
    "elemento_dict = leer_archivo(nombre_archivo)\n",
    "#elementos = ordenar_alfabericamente(elemento_dict)\n",
    "ordenar_alfabericamente(elemento_dict, True)\n",
    "agregar_a_archivo(\"Elementos_formateado.dat\", elementos)\n"
   ]
  }
 ],
 "metadata": {
  "kernelspec": {
   "display_name": "Python 3",
   "language": "python",
   "name": "python3"
  },
  "language_info": {
   "codemirror_mode": {
    "name": "ipython",
    "version": 3
   },
   "file_extension": ".py",
   "mimetype": "text/x-python",
   "name": "python",
   "nbconvert_exporter": "python",
   "pygments_lexer": "ipython3",
   "version": "3.7.4"
  }
 },
 "nbformat": 4,
 "nbformat_minor": 2
}
