{
 "cells": [
  {
   "cell_type": "markdown",
   "metadata": {},
   "source": [
    "# Diccionarios"
   ]
  },
  {
   "cell_type": "code",
   "execution_count": 14,
   "metadata": {},
   "outputs": [
    {
     "name": "stdout",
     "output_type": "stream",
     "text": [
      "{'S': '13', 'Z': 'Al', 'A': 27.0, 'M': 26.98153863, 'P': '1.0000', 'MS': 26.9815386}\n",
      "Elemento: Al\n",
      "Número Atómico: 13\n",
      "Número de masa: 27\n",
      "Masa: 26.98154\n"
     ]
    }
   ],
   "source": [
    "aluminio_dict = {}\n",
    "with open(\"../intro-python-IB/data/aluminio.dat\") as f:\n",
    "    s = f.read()\n",
    "for line in s.splitlines():\n",
    "    k,v = line.split(\"=\")\n",
    "    k = k.strip()   #elimino los espacios en blanco.\n",
    "    v = v.strip()\n",
    "    \n",
    "    if k.count('Mass') | k.count('Weight'):\n",
    "        if v.endswith(')'):\n",
    "            mass_value = v.split('(')\n",
    "            v = float(mass_value[0])\n",
    "        else:\n",
    "            v = float(v)\n",
    "        \n",
    "    if k == \"Atomic Number\":\n",
    "        aluminio_dict[\"S\"] = v\n",
    "    elif k == \"Atomic Symbol\":\n",
    "        aluminio_dict[\"Z\"] = v\n",
    "    elif k == \"Mass Number\":\n",
    "        aluminio_dict[\"A\"] = v\n",
    "    elif k == \"Relative Atomic Mass\":\n",
    "        aluminio_dict[\"M\"] = v\n",
    "    elif k == \"Isotopic Composition\":\n",
    "        aluminio_dict[\"P\"] = v\n",
    "    elif k == \"Standard Atomic Weight\":\n",
    "        aluminio_dict[\"MS\"] = v\n",
    "    else:\n",
    "        print(\"Error\")\n",
    "print(aluminio_dict)\n",
    "\n",
    "print('Elemento: {0}\\nNúmero Atómico: {1}\\nNúmero de masa: {2}\\nMasa: {3:.5f}'\n",
    "      .format(aluminio_dict['Z'], aluminio_dict['S'], int(aluminio_dict['A']), aluminio_dict['MS']))"
   ]
  },
  {
   "cell_type": "markdown",
   "metadata": {},
   "source": [
    "# Funciones"
   ]
  },
  {
   "cell_type": "code",
   "execution_count": null,
   "metadata": {},
   "outputs": [],
   "source": [
    "sum"
   ]
  },
  {
   "cell_type": "code",
   "execution_count": null,
   "metadata": {},
   "outputs": [],
   "source": [
    "print"
   ]
  },
  {
   "cell_type": "code",
   "execution_count": null,
   "metadata": {},
   "outputs": [],
   "source": [
    "f = sum\n",
    "help(f)"
   ]
  },
  {
   "cell_type": "markdown",
   "metadata": {},
   "source": [
    "Los argumentos de las funciones, si pasar un parametro y dentro de la funcion le asignas otro valor, entonces se crea un nuevo objeto, y el objeto originar (del scope de afuera) queda igual. *IMPORTANTE*: pero, ,si modificas el objeto original dentro de la función, ahora si cambias el valor original.\n",
    "\n",
    "Entonces, si modificar el valor de un argumento dentro de la función (solo si se modifica, por ejemplo: agregar un elemento a una lista, diccionario, etc.) se comporta como un pasaje de valor por referncia, no por VALOR. Si modificas el argumento dentro de la función con una asignación por ejemplo, se crea una nueva variable."
   ]
  },
  {
   "cell_type": "code",
   "execution_count": 3,
   "metadata": {},
   "outputs": [
    {
     "name": "stdout",
     "output_type": "stream",
     "text": [
      "False\n",
      "False\n",
      "False\n"
     ]
    }
   ],
   "source": [
    "def es_divisible1(x):\n",
    "    \"\"\"Retorna Verdadero si X es divisible por 2,3,5 o 7,\n",
    "    Falso en caso contrario.\n",
    "    \"\"\"\n",
    "    \n",
    "    if x%2==0 | x%3==0 | x%5==0 | x%7==0:\n",
    "        return True\n",
    "    else:\n",
    "        return False\n",
    "\n",
    "print(es_divisible1(2))\n",
    "print(es_divisible1(10))\n",
    "print(es_divisible1(11))\n"
   ]
  },
  {
   "cell_type": "code",
   "execution_count": 17,
   "metadata": {},
   "outputs": [
    {
     "name": "stdout",
     "output_type": "stream",
     "text": [
      "linea no válida o vacia: \n",
      "linea no válida o vacia: \n",
      "linea no válida o vacia: \n",
      "linea no válida o vacia: \n",
      "linea no válida o vacia: \n",
      "linea no válida o vacia: \n",
      "linea no válida o vacia: \n",
      "linea no válida o vacia: \n",
      "{'Atomic Number': '79', 'Atomic Symbol': 'Au', 'Mass Number': '197', 'Relative Atomic Mass': '196.9665687(6)', 'Isotopic Composition': '1.0000', 'Standard Atomic Weight': '196.966569(4)'}\n"
     ]
    }
   ],
   "source": [
    "nombre = \"../intro-python-IB/data/elementos.dat\"\n",
    "\n",
    "def leer_archivo(nombre):\n",
    "    elemento_dict = {}\n",
    "    with open(nombre) as f:\n",
    "        s = f.read()\n",
    "        elemento = {}\n",
    "        for line in s.splitlines():\n",
    "            try: \n",
    "                k,v = line.split(\"=\")\n",
    "                k = k.strip()   #elimino los espacios en blanco.\n",
    "                if \"Symbol\" in k:\n",
    "                    elemento_dict[]\n",
    "                v = v.strip()\n",
    "                elemento[k] = v\n",
    "            except:\n",
    "                print(\"linea no válida o vacia: {}\".format(line))\n",
    "        print(elemento)\n",
    "leer_archivo(nombre)"
   ]
  }
 ],
 "metadata": {
  "kernelspec": {
   "display_name": "Python 3",
   "language": "python",
   "name": "python3"
  },
  "language_info": {
   "codemirror_mode": {
    "name": "ipython",
    "version": 3
   },
   "file_extension": ".py",
   "mimetype": "text/x-python",
   "name": "python",
   "nbconvert_exporter": "python",
   "pygments_lexer": "ipython3",
   "version": "3.7.4"
  }
 },
 "nbformat": 4,
 "nbformat_minor": 2
}
