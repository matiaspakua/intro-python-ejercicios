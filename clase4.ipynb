{
 "cells": [
  {
   "cell_type": "markdown",
   "metadata": {},
   "source": [
    "# Diccionarios"
   ]
  },
  {
   "cell_type": "code",
   "execution_count": 14,
   "metadata": {},
   "outputs": [
    {
     "name": "stdout",
     "output_type": "stream",
     "text": [
      "{'S': '13', 'Z': 'Al', 'A': 27.0, 'M': 26.98153863, 'P': '1.0000', 'MS': 26.9815386}\n",
      "Elemento: Al\n",
      "Número Atómico: 13\n",
      "Número de masa: 27\n",
      "Masa: 26.98154\n"
     ]
    }
   ],
   "source": [
    "aluminio_dict = {}\n",
    "with open(\"../intro-python-IB/data/aluminio.dat\") as f:\n",
    "    s = f.read()\n",
    "for line in s.splitlines():\n",
    "    k,v = line.split(\"=\")\n",
    "    k = k.strip()   #elimino los espacios en blanco.\n",
    "    v = v.strip()\n",
    "    \n",
    "    if k.count('Mass') | k.count('Weight'):\n",
    "        if v.endswith(')'):\n",
    "            mass_value = v.split('(')\n",
    "            v = float(mass_value[0])\n",
    "        else:\n",
    "            v = float(v)\n",
    "        \n",
    "    if k == \"Atomic Number\":\n",
    "        aluminio_dict[\"S\"] = v\n",
    "    elif k == \"Atomic Symbol\":\n",
    "        aluminio_dict[\"Z\"] = v\n",
    "    elif k == \"Mass Number\":\n",
    "        aluminio_dict[\"A\"] = v\n",
    "    elif k == \"Relative Atomic Mass\":\n",
    "        aluminio_dict[\"M\"] = v\n",
    "    elif k == \"Isotopic Composition\":\n",
    "        aluminio_dict[\"P\"] = v\n",
    "    elif k == \"Standard Atomic Weight\":\n",
    "        aluminio_dict[\"MS\"] = v\n",
    "    else:\n",
    "        print(\"Error\")\n",
    "print(aluminio_dict)\n",
    "\n",
    "print('Elemento: {0}\\nNúmero Atómico: {1}\\nNúmero de masa: {2}\\nMasa: {3:.5f}'\n",
    "      .format(aluminio_dict['Z'], aluminio_dict['S'], int(aluminio_dict['A']), aluminio_dict['MS']))"
   ]
  },
  {
   "cell_type": "markdown",
   "metadata": {},
   "source": [
    "# Funciones"
   ]
  },
  {
   "cell_type": "code",
   "execution_count": null,
   "metadata": {},
   "outputs": [],
   "source": [
    "sum"
   ]
  },
  {
   "cell_type": "code",
   "execution_count": null,
   "metadata": {},
   "outputs": [],
   "source": [
    "print"
   ]
  },
  {
   "cell_type": "code",
   "execution_count": null,
   "metadata": {},
   "outputs": [],
   "source": [
    "f = sum\n",
    "help(f)"
   ]
  },
  {
   "cell_type": "markdown",
   "metadata": {},
   "source": [
    "Los argumentos de las funciones, si pasar un parametro y dentro de la funcion le asignas otro valor, entonces se crea un nuevo objeto, y el objeto originar (del scope de afuera) queda igual. *IMPORTANTE*: pero, ,si modificas el objeto original dentro de la función, ahora si cambias el valor original.\n",
    "\n",
    "Entonces, si modificar el valor de un argumento dentro de la función (solo si se modifica, por ejemplo: agregar un elemento a una lista, diccionario, etc.) se comporta como un pasaje de valor por referncia, no por VALOR. Si modificas el argumento dentro de la función con una asignación por ejemplo, se crea una nueva variable."
   ]
  },
  {
   "cell_type": "code",
   "execution_count": 3,
   "metadata": {},
   "outputs": [
    {
     "name": "stdout",
     "output_type": "stream",
     "text": [
      "False\n",
      "False\n",
      "False\n"
     ]
    }
   ],
   "source": [
    "def es_divisible1(x):\n",
    "    \"\"\"Retorna Verdadero si X es divisible por 2,3,5 o 7,\n",
    "    Falso en caso contrario.\n",
    "    \"\"\"\n",
    "    \n",
    "    if x%2==0 | x%3==0 | x%5==0 | x%7==0:\n",
    "        return True\n",
    "    else:\n",
    "        return False\n",
    "\n",
    "print(es_divisible1(2))\n",
    "print(es_divisible1(10))\n",
    "print(es_divisible1(11))\n"
   ]
  },
  {
   "cell_type": "code",
   "execution_count": 91,
   "metadata": {},
   "outputs": [
    {
     "ename": "KeyError",
     "evalue": "'Atomic Symbol'",
     "output_type": "error",
     "traceback": [
      "\u001b[1;31m---------------------------------------------------------------------------\u001b[0m",
      "\u001b[1;31mKeyError\u001b[0m                                  Traceback (most recent call last)",
      "\u001b[1;32m<ipython-input-91-9fd3a361265f>\u001b[0m in \u001b[0;36m<module>\u001b[1;34m\u001b[0m\n\u001b[0;32m     61\u001b[0m \u001b[1;33m\u001b[0m\u001b[0m\n\u001b[0;32m     62\u001b[0m \u001b[1;33m\u001b[0m\u001b[0m\n\u001b[1;32m---> 63\u001b[1;33m \u001b[0melemento_dict\u001b[0m \u001b[1;33m=\u001b[0m \u001b[0mleer_archivo\u001b[0m\u001b[1;33m(\u001b[0m\u001b[0mnombre\u001b[0m\u001b[1;33m)\u001b[0m\u001b[1;33m\u001b[0m\u001b[1;33m\u001b[0m\u001b[0m\n\u001b[0m\u001b[0;32m     64\u001b[0m \u001b[1;33m\u001b[0m\u001b[0m\n\u001b[0;32m     65\u001b[0m \u001b[1;31m#for ke in elemento_dict.keys():\u001b[0m\u001b[1;33m\u001b[0m\u001b[1;33m\u001b[0m\u001b[1;33m\u001b[0m\u001b[0m\n",
      "\u001b[1;32m<ipython-input-91-9fd3a361265f>\u001b[0m in \u001b[0;36mleer_archivo\u001b[1;34m(nombre)\u001b[0m\n\u001b[0;32m     21\u001b[0m \u001b[1;33m\u001b[0m\u001b[0m\n\u001b[0;32m     22\u001b[0m             \u001b[1;31m#print(elemento)\u001b[0m\u001b[1;33m\u001b[0m\u001b[1;33m\u001b[0m\u001b[1;33m\u001b[0m\u001b[0m\n\u001b[1;32m---> 23\u001b[1;33m             \u001b[0melemento_dict_key\u001b[0m \u001b[1;33m=\u001b[0m \u001b[0melemento\u001b[0m\u001b[1;33m[\u001b[0m\u001b[1;34m'Atomic Symbol'\u001b[0m\u001b[1;33m]\u001b[0m\u001b[1;33m\u001b[0m\u001b[1;33m\u001b[0m\u001b[0m\n\u001b[0m\u001b[0;32m     24\u001b[0m             \u001b[0melemento_dict\u001b[0m\u001b[1;33m[\u001b[0m\u001b[0melemento_dict_key\u001b[0m\u001b[1;33m]\u001b[0m \u001b[1;33m=\u001b[0m \u001b[0melemento\u001b[0m\u001b[1;33m\u001b[0m\u001b[1;33m\u001b[0m\u001b[0m\n\u001b[0;32m     25\u001b[0m             \u001b[0mprint\u001b[0m\u001b[1;33m(\u001b[0m\u001b[0melemento_dict\u001b[0m\u001b[1;33m)\u001b[0m\u001b[1;33m\u001b[0m\u001b[1;33m\u001b[0m\u001b[0m\n",
      "\u001b[1;31mKeyError\u001b[0m: 'Atomic Symbol'"
     ]
    }
   ],
   "source": [
    "nombre = \"../intro-python-IB/data/elementos.dat\"\n",
    "\n",
    "\n",
    "def leer_archivo(nombre):\n",
    "    \"\"\"\n",
    "    Funcion que leer la ruta de un archivo por parámetro y crear\n",
    "    un diccionario donde, la clave es el símbolo del elemento y el\n",
    "    valor de cada clave es un diccionario, con todas las propiedades\n",
    "    del elemento.\n",
    "    \"\"\"\n",
    "    elemento_dict = {}\n",
    "    with open(nombre) as f:\n",
    "        s = f.read()\n",
    "        elemento = {}\n",
    "        elemento_dict_key = ''    \n",
    "        for line in s.splitlines():\n",
    "            k,v = line.split(\"=\")\n",
    "            k = k.strip()   #elimino los espacios en blanco.\n",
    "            v = v.strip()\n",
    "            elemento[k] = v\n",
    "\n",
    "            #print(elemento)\n",
    "            elemento_dict_key = elemento['Atomic Symbol']\n",
    "            elemento_dict[elemento_dict_key] = elemento\n",
    "            print(elemento_dict)\n",
    "            continue\n",
    "            #print(\"linea no válida o vacia: {}\".format(line))\n",
    "    return elemento_dict\n",
    "                \n",
    "def ordenar_alfabericamente(diccionario, reverse=False):\n",
    "    \"\"\"\n",
    "    Funcion que recibe un diccionario como parámetros y escribe en un\n",
    "    string el contenido del diccionario, ordenado alfabeticamente\n",
    "    por la KEY del mismo y lo imprime.\n",
    "    \"\"\"\n",
    "    keys = list(diccionario.keys())\n",
    "    keys.sort(reverse=reverse)\n",
    "    dict_to_string = \"\\n\"\n",
    "    for k in keys:\n",
    "        elemento = diccionario[k]\n",
    "        \n",
    "        dict_to_string += \"Elemento: \" + k + \"\\n\"\n",
    "        \n",
    "        for sub_keys, value in elemento.items():\n",
    "            \n",
    "            if \"Atomic Number\" in sub_keys:\n",
    "                dict_to_string += \"S= \" + value + \"\\n\"\n",
    "            elif \"Atomic Symbol\" in sub_keys:\n",
    "                dict_to_string += \"Z= \" + diccionario[k][sub_keys] + \"\\n\"\n",
    "            elif \"Mass Number\" in sub_keys:\n",
    "                dict_to_string += \"A= \" + diccionario[k][sub_keys] + \"\\n\"\n",
    "            elif \"Relative Atomic Mass\" in sub_keys:\n",
    "                dict_to_string += \"Masa= \" + diccionario[k][sub_keys] + \"\\n\"\n",
    "            elif \"Isotopic Composition\" in sub_keys:\n",
    "                dict_to_string += \"Abundancia= \" + diccionario[k][sub_keys] + \"\\n\"\n",
    "            elif \"Standard Atomic Weight\" in sub_keys:\n",
    "                dict_to_string += \"Masa Promedio= \" + diccionario[k][sub_keys] + \"\\n\"\n",
    "        dict_to_string += \"\\n\"\n",
    "            \n",
    "    print(dict_to_string)\n",
    "    \n",
    "    \n",
    "elemento_dict = leer_archivo(nombre)\n",
    "\n",
    "#for ke in elemento_dict.keys():\n",
    "    #print(elemento_dict[ke])\n",
    "\n",
    "#ordenar_alfabericamente(elemento_dict)"
   ]
  }
 ],
 "metadata": {
  "kernelspec": {
   "display_name": "Python 3",
   "language": "python",
   "name": "python3"
  },
  "language_info": {
   "codemirror_mode": {
    "name": "ipython",
    "version": 3
   },
   "file_extension": ".py",
   "mimetype": "text/x-python",
   "name": "python",
   "nbconvert_exporter": "python",
   "pygments_lexer": "ipython3",
   "version": "3.7.4"
  }
 },
 "nbformat": 4,
 "nbformat_minor": 2
}
