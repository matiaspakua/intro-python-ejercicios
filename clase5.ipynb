{
 "cells": [
  {
   "cell_type": "markdown",
   "metadata": {},
   "source": [
    "# Funciones"
   ]
  },
  {
   "cell_type": "code",
   "execution_count": 9,
   "metadata": {},
   "outputs": [
    {
     "name": "stdout",
     "output_type": "stream",
     "text": [
      "0.4233600241796016\n",
      "Help on function crear_sen in module __main__:\n",
      "\n",
      "crear_sen(A, w)\n",
      "    Función que devuelve la función del seno de un valor,\n",
      "    usando como parámetros A y w.\n",
      "\n",
      "Help on function seno in module __main__:\n",
      "\n",
      "seno(x)\n",
      "    función que calcula el seno de X, en base\n",
      "    al parámetro A y w.\n",
      "\n"
     ]
    }
   ],
   "source": [
    "import math\n",
    "\n",
    "def crear_sen(A, w):\n",
    "    \"\"\"\n",
    "    Función que devuelve la función del seno de un valor,\n",
    "    usando como parámetros A y w.\n",
    "    \"\"\"\n",
    "    def seno(x):\n",
    "        \"\"\"\n",
    "        función que calcula el seno de X, en base\n",
    "        al parámetro A y w.\n",
    "        \"\"\"\n",
    "        return A*math.sin(w*x)\n",
    "    return seno\n",
    "\n",
    "f = crear_sen(3, 1.5)\n",
    "resultado = f(2)\n",
    "print(resultado)\n",
    "help(crear_sen)\n",
    "help(f)"
   ]
  },
  {
   "cell_type": "code",
   "execution_count": 26,
   "metadata": {},
   "outputs": [
    {
     "name": "stdout",
     "output_type": "stream",
     "text": [
      "True\n",
      "False\n"
     ]
    }
   ],
   "source": [
    "completo = \"ÉstE string quizas contenga tOdas las vocales\"\n",
    "incompleto = \"wrtpkljg\"\n",
    "\n",
    "def contiene_vocales(case_sensitive):\n",
    "    \"\"\"\n",
    "    \"\"\"\n",
    "    \n",
    "    def verificar_vocales(cadena_texto):\n",
    "        s = set(cadena_texto)\n",
    "        set_minusculas = set('aeiou')\n",
    "        set_mayusculas = set('AEIOU')\n",
    "        \n",
    "        if case_sensitive:\n",
    "            if (set_minusculas & s) and (set_mayusculas & s):\n",
    "                return True\n",
    "            else:\n",
    "                return False\n",
    "        else:\n",
    "            if set_minusculas & s:\n",
    "                return True\n",
    "            else:\n",
    "                return False\n",
    "    return verificar_vocales\n",
    "            \n",
    "f = contiene_vocales(True)\n",
    "print(f(completo))\n",
    "print(f(incompleto))"
   ]
  },
  {
   "cell_type": "code",
   "execution_count": 46,
   "metadata": {},
   "outputs": [
    {
     "name": "stdout",
     "output_type": "stream",
     "text": [
      "2\n",
      "[1.0, 2.0, 3.0]\n",
      "2\n"
     ]
    },
    {
     "ename": "IndexError",
     "evalue": "list assignment index out of range",
     "output_type": "error",
     "traceback": [
      "\u001b[1;31m---------------------------------------------------------------------------\u001b[0m",
      "\u001b[1;31mIndexError\u001b[0m                                Traceback (most recent call last)",
      "\u001b[1;32m<ipython-input-46-eddfa603ae3e>\u001b[0m in \u001b[0;36m<module>\u001b[1;34m\u001b[0m\n\u001b[0;32m     44\u001b[0m \u001b[0mpol1\u001b[0m \u001b[1;33m=\u001b[0m \u001b[1;33m[\u001b[0m\u001b[1;36m1.0\u001b[0m\u001b[1;33m,\u001b[0m \u001b[1;36m2.0\u001b[0m\u001b[1;33m,\u001b[0m \u001b[1;36m3.0\u001b[0m\u001b[1;33m]\u001b[0m\u001b[1;33m\u001b[0m\u001b[1;33m\u001b[0m\u001b[0m\n\u001b[0;32m     45\u001b[0m \u001b[0mpol2\u001b[0m \u001b[1;33m=\u001b[0m \u001b[1;33m[\u001b[0m\u001b[1;36m2.0\u001b[0m\u001b[1;33m,\u001b[0m \u001b[1;36m3.0\u001b[0m\u001b[1;33m,\u001b[0m \u001b[1;36m4.0\u001b[0m\u001b[1;33m,\u001b[0m\u001b[1;36m5.0\u001b[0m\u001b[1;33m,\u001b[0m\u001b[1;36m6.0\u001b[0m\u001b[1;33m]\u001b[0m\u001b[1;33m\u001b[0m\u001b[1;33m\u001b[0m\u001b[0m\n\u001b[1;32m---> 46\u001b[1;33m \u001b[0mprint\u001b[0m\u001b[1;33m(\u001b[0m\u001b[0msuma_polinomios\u001b[0m\u001b[1;33m(\u001b[0m\u001b[0mpol1\u001b[0m\u001b[1;33m,\u001b[0m \u001b[0mpol2\u001b[0m\u001b[1;33m)\u001b[0m\u001b[1;33m)\u001b[0m\u001b[1;33m\u001b[0m\u001b[1;33m\u001b[0m\u001b[0m\n\u001b[0m",
      "\u001b[1;32m<ipython-input-46-eddfa603ae3e>\u001b[0m in \u001b[0;36msuma_polinomios\u001b[1;34m(polinomio1, polinomio2)\u001b[0m\n\u001b[0;32m     30\u001b[0m     \u001b[1;32melse\u001b[0m\u001b[1;33m:\u001b[0m\u001b[1;33m\u001b[0m\u001b[1;33m\u001b[0m\u001b[0m\n\u001b[0;32m     31\u001b[0m         \u001b[0mmax_orden\u001b[0m \u001b[1;33m=\u001b[0m \u001b[0mlen2\u001b[0m\u001b[1;33m\u001b[0m\u001b[1;33m\u001b[0m\u001b[0m\n\u001b[1;32m---> 32\u001b[1;33m         \u001b[0mpol1\u001b[0m \u001b[1;33m=\u001b[0m \u001b[0mcompleta_orden\u001b[0m\u001b[1;33m(\u001b[0m\u001b[0mpolinomio1\u001b[0m\u001b[1;33m,\u001b[0m \u001b[0mmax_orden\u001b[0m\u001b[1;33m-\u001b[0m\u001b[0mlen1\u001b[0m\u001b[1;33m)\u001b[0m\u001b[1;33m\u001b[0m\u001b[1;33m\u001b[0m\u001b[0m\n\u001b[0m\u001b[0;32m     33\u001b[0m \u001b[1;33m\u001b[0m\u001b[0m\n\u001b[0;32m     34\u001b[0m \u001b[1;33m\u001b[0m\u001b[0m\n",
      "\u001b[1;32m<ipython-input-46-eddfa603ae3e>\u001b[0m in \u001b[0;36mcompleta_orden\u001b[1;34m(pol, dif)\u001b[0m\n\u001b[0;32m     21\u001b[0m         \u001b[0mprint\u001b[0m\u001b[1;33m(\u001b[0m\u001b[0mdif\u001b[0m\u001b[1;33m)\u001b[0m\u001b[1;33m\u001b[0m\u001b[1;33m\u001b[0m\u001b[0m\n\u001b[0;32m     22\u001b[0m         \u001b[1;32mfor\u001b[0m \u001b[0morden\u001b[0m \u001b[1;32min\u001b[0m \u001b[0mrange\u001b[0m\u001b[1;33m(\u001b[0m\u001b[0mlen\u001b[0m\u001b[1;33m(\u001b[0m\u001b[0mpol\u001b[0m\u001b[1;33m)\u001b[0m\u001b[1;33m,\u001b[0m\u001b[0mlen\u001b[0m\u001b[1;33m(\u001b[0m\u001b[0mpol\u001b[0m\u001b[1;33m)\u001b[0m\u001b[1;33m+\u001b[0m\u001b[0mdif\u001b[0m\u001b[1;33m)\u001b[0m\u001b[1;33m:\u001b[0m\u001b[1;33m\u001b[0m\u001b[1;33m\u001b[0m\u001b[0m\n\u001b[1;32m---> 23\u001b[1;33m             \u001b[0mpol\u001b[0m\u001b[1;33m[\u001b[0m\u001b[0morden\u001b[0m\u001b[1;33m]\u001b[0m \u001b[1;33m=\u001b[0m \u001b[1;36m0.0\u001b[0m\u001b[1;33m\u001b[0m\u001b[1;33m\u001b[0m\u001b[0m\n\u001b[0m\u001b[0;32m     24\u001b[0m         \u001b[1;32mreturn\u001b[0m \u001b[0mpol\u001b[0m\u001b[1;33m\u001b[0m\u001b[1;33m\u001b[0m\u001b[0m\n\u001b[0;32m     25\u001b[0m \u001b[1;33m\u001b[0m\u001b[0m\n",
      "\u001b[1;31mIndexError\u001b[0m: list assignment index out of range"
     ]
    }
   ],
   "source": [
    "# Polinomio: c0x**0 + c1x**1 ... cnx**n\n",
    "# c0, c1, cn\n",
    "\n",
    "def orden_polinomio(polinomio):\n",
    "    \"\"\"\n",
    "    Devuelve el orden del polinomio\n",
    "    \"\"\"\n",
    "    return len(polinomio)-1\n",
    "\n",
    "def suma_polinomios(polinomio1, polinomio2):\n",
    "    \"\"\"\n",
    "    Devuelve una lista con la suma de 2 polinomios.\n",
    "    \"\"\"\n",
    "    suma = []\n",
    "    max_orden = 0\n",
    "    len1 = len(polinomio1)\n",
    "    len2 = len(polinomio2)\n",
    "    \n",
    "    def completa_orden(pol, dif):\n",
    "        print(pol)\n",
    "        print(dif)\n",
    "        for orden in range(len(pol),len(pol)+dif):\n",
    "            pol[orden] = 0.0\n",
    "        return pol\n",
    "    \n",
    "\n",
    "    if len1 >= len2:\n",
    "        max_orden = len1\n",
    "        pol2 = completa_orden(polinomio2, max_orden-len2)\n",
    "    else:\n",
    "        max_orden = len2\n",
    "        pol1 = completa_orden(polinomio1, max_orden-len1)\n",
    "    \n",
    "\n",
    "            \n",
    "    #for index in range(max_orden):\n",
    "    #    suma[index] = polinomio1[index] + polinomio2[index]\n",
    "    return suma\n",
    "\n",
    "\n",
    "pol = [1.0, 2.0, 3.0]\n",
    "print(orden_polinomio(pol))\n",
    "\n",
    "pol1 = [1.0, 2.0, 3.0]\n",
    "pol2 = [2.0, 3.0, 4.0,5.0,6.0]\n",
    "print(suma_polinomios(pol1, pol2))"
   ]
  },
  {
   "cell_type": "markdown",
   "metadata": {},
   "source": [
    "# Ejercicio 5c"
   ]
  },
  {
   "cell_type": "code",
   "execution_count": 22,
   "metadata": {},
   "outputs": [
    {
     "name": "stdout",
     "output_type": "stream",
     "text": [
      "[1, 8, 27]\n",
      "[1, 8, 27]\n",
      "[1, 8, 27]\n",
      "('1', '2', '3') no es un elemento iterable.\n",
      "None\n",
      "(1, 2, 'a') no es un elemento iterable.\n",
      "None\n",
      "{'h', 'a', 'o', 'l'} no es un elemento iterable.\n",
      "None\n",
      "[1, 8.0, 27]\n"
     ]
    }
   ],
   "source": [
    "def chequeo_argumento_iterable(f):\n",
    "    \"\"\"\n",
    "    Verifica que el el argumento sea un objeto iterable.\n",
    "    \"\"\"\n",
    "    def chequeo(params):\n",
    "        try:\n",
    "            if iter(params):\n",
    "                return f(params)\n",
    "        except:\n",
    "            print(\"{} no es un elemento iterable.\".format(params))\n",
    "    return chequeo\n",
    "\n",
    "@chequeo_argumento_iterable\n",
    "def cubos(v):\n",
    "    return [x**3 for x in v]\n",
    "\n",
    "p1 =[1,2,3]\n",
    "p2 =(1,2,3)\n",
    "p3 ={1,2,3}\n",
    "p4 =(\"1\", \"2\", \"3\")\n",
    "p5 =(1,2,'a')\n",
    "p6 = {'h','o','l','a'}\n",
    "p7 =(1,2.0,3)\n",
    "\n",
    "print(\"{}\".format(cubos(p1)))\n",
    "print(\"{}\".format(cubos(p2)))\n",
    "print(\"{}\".format(cubos(p3)))\n",
    "print(\"{}\".format(cubos(p4)))\n",
    "print(\"{}\".format(cubos(p5)))\n",
    "print(\"{}\".format(cubos(p6)))\n",
    "print(\"{}\".format(cubos(p7)))"
   ]
  }
 ],
 "metadata": {
  "kernelspec": {
   "display_name": "Python 3",
   "language": "python",
   "name": "python3"
  },
  "language_info": {
   "codemirror_mode": {
    "name": "ipython",
    "version": 3
   },
   "file_extension": ".py",
   "mimetype": "text/x-python",
   "name": "python",
   "nbconvert_exporter": "python",
   "pygments_lexer": "ipython3",
   "version": "3.7.4"
  }
 },
 "nbformat": 4,
 "nbformat_minor": 2
}
